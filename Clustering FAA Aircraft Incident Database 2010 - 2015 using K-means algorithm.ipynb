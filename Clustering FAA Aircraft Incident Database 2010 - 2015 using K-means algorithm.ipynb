{
 "cells": [
  {
   "cell_type": "markdown",
   "metadata": {},
   "source": [
    "### A. Data Acquisition"
   ]
  },
  {
   "cell_type": "markdown",
   "metadata": {},
   "source": [
    "#### 1. Import Libraries"
   ]
  },
  {
   "cell_type": "code",
   "execution_count": 1,
   "metadata": {},
   "outputs": [],
   "source": [
    "import pandas as pd\n",
    "import numpy as np\n",
    "import matplotlib.pyplot as plt\n",
    "import seaborn as sns\n",
    "import datetime as dt\n",
    "%matplotlib inline\n",
    "sns.set(color_codes=True)"
   ]
  },
  {
   "cell_type": "markdown",
   "metadata": {},
   "source": [
    "#### 2. Load the dataset"
   ]
  },
  {
   "cell_type": "code",
   "execution_count": 2,
   "metadata": {},
   "outputs": [
    {
     "name": "stderr",
     "output_type": "stream",
     "text": [
      "C:\\Users\\User\\anaconda3\\lib\\site-packages\\IPython\\core\\interactiveshell.py:3146: DtypeWarning: Columns (12,14) have mixed types.Specify dtype option on import or set low_memory=False.\n",
      "  has_raised = await self.run_ast_nodes(code_ast.body, cell_name,\n"
     ]
    }
   ],
   "source": [
    "df_faa = pd.read_csv('faa_incidents_data.csv')"
   ]
  },
  {
   "cell_type": "code",
   "execution_count": 3,
   "metadata": {},
   "outputs": [
    {
     "data": {
      "text/html": [
       "<div>\n",
       "<style scoped>\n",
       "    .dataframe tbody tr th:only-of-type {\n",
       "        vertical-align: middle;\n",
       "    }\n",
       "\n",
       "    .dataframe tbody tr th {\n",
       "        vertical-align: top;\n",
       "    }\n",
       "\n",
       "    .dataframe thead th {\n",
       "        text-align: right;\n",
       "    }\n",
       "</style>\n",
       "<table border=\"1\" class=\"dataframe\">\n",
       "  <thead>\n",
       "    <tr style=\"text-align: right;\">\n",
       "      <th></th>\n",
       "      <th>AIDS Report Number</th>\n",
       "      <th>Local Event Date</th>\n",
       "      <th>Event City</th>\n",
       "      <th>Event State</th>\n",
       "      <th>Event Airport</th>\n",
       "      <th>Event Type</th>\n",
       "      <th>Aircraft Damage</th>\n",
       "      <th>Flight Phase</th>\n",
       "      <th>Aircraft Make</th>\n",
       "      <th>Aircraft Model</th>\n",
       "      <th>...</th>\n",
       "      <th>Aircraft Registration Nbr</th>\n",
       "      <th>Total Fatalities</th>\n",
       "      <th>Total Injuries</th>\n",
       "      <th>Aircraft Engine Make</th>\n",
       "      <th>Aircraft Engine Model</th>\n",
       "      <th>Engine Group Code</th>\n",
       "      <th>Nbr of Engines</th>\n",
       "      <th>PIC Certificate Type</th>\n",
       "      <th>PIC Flight Time Total Hrs</th>\n",
       "      <th>PIC Flight Time Total Make-Model</th>\n",
       "    </tr>\n",
       "  </thead>\n",
       "  <tbody>\n",
       "    <tr>\n",
       "      <th>0</th>\n",
       "      <td>19780101000019I</td>\n",
       "      <td>1-Jan-78</td>\n",
       "      <td>WAHPETON</td>\n",
       "      <td>ND</td>\n",
       "      <td>BRECKENRIDGE</td>\n",
       "      <td>INCIDENT</td>\n",
       "      <td>MINOR</td>\n",
       "      <td>ROLL-OUT (FIXED WING)</td>\n",
       "      <td>CESSNA</td>\n",
       "      <td>182</td>\n",
       "      <td>...</td>\n",
       "      <td>2691Q</td>\n",
       "      <td>0</td>\n",
       "      <td>0</td>\n",
       "      <td>NaN</td>\n",
       "      <td>NaN</td>\n",
       "      <td>NaN</td>\n",
       "      <td>1.0</td>\n",
       "      <td>PRIVATE PILOT</td>\n",
       "      <td>245.0</td>\n",
       "      <td>136.0</td>\n",
       "    </tr>\n",
       "    <tr>\n",
       "      <th>1</th>\n",
       "      <td>19780101000029I</td>\n",
       "      <td>1-Jan-78</td>\n",
       "      <td>FAIRBANKS</td>\n",
       "      <td>AK</td>\n",
       "      <td>FAIRBANKS INTL</td>\n",
       "      <td>INCIDENT</td>\n",
       "      <td>MINOR</td>\n",
       "      <td>ROLL-OUT (FIXED WING)</td>\n",
       "      <td>PIPER</td>\n",
       "      <td>PA18</td>\n",
       "      <td>...</td>\n",
       "      <td>4073E</td>\n",
       "      <td>0</td>\n",
       "      <td>0</td>\n",
       "      <td>NaN</td>\n",
       "      <td>NaN</td>\n",
       "      <td>NaN</td>\n",
       "      <td>1.0</td>\n",
       "      <td>STUDENT</td>\n",
       "      <td>200.0</td>\n",
       "      <td>2.0</td>\n",
       "    </tr>\n",
       "    <tr>\n",
       "      <th>2</th>\n",
       "      <td>19780101000039I</td>\n",
       "      <td>1-Jan-78</td>\n",
       "      <td>BRUNSWICK</td>\n",
       "      <td>GA</td>\n",
       "      <td>JEKYLL ISLAND</td>\n",
       "      <td>INCIDENT</td>\n",
       "      <td>NaN</td>\n",
       "      <td>NORMAL CRUISE</td>\n",
       "      <td>BEECH</td>\n",
       "      <td>35</td>\n",
       "      <td>...</td>\n",
       "      <td>7929D</td>\n",
       "      <td>0</td>\n",
       "      <td>0</td>\n",
       "      <td>NaN</td>\n",
       "      <td>NaN</td>\n",
       "      <td>NaN</td>\n",
       "      <td>1.0</td>\n",
       "      <td>PRIVATE PILOT</td>\n",
       "      <td>NaN</td>\n",
       "      <td>0.0</td>\n",
       "    </tr>\n",
       "    <tr>\n",
       "      <th>3</th>\n",
       "      <td>19780101000049I</td>\n",
       "      <td>1-Jan-78</td>\n",
       "      <td>CARLSBAD</td>\n",
       "      <td>CA</td>\n",
       "      <td>MC CLELLAN-PALOMAR</td>\n",
       "      <td>INCIDENT</td>\n",
       "      <td>MINOR</td>\n",
       "      <td>LEVEL OFF TOUCHDOWN</td>\n",
       "      <td>CESSNA</td>\n",
       "      <td>310</td>\n",
       "      <td>...</td>\n",
       "      <td>2250F</td>\n",
       "      <td>0</td>\n",
       "      <td>0</td>\n",
       "      <td>NaN</td>\n",
       "      <td>NaN</td>\n",
       "      <td>NaN</td>\n",
       "      <td>2.0</td>\n",
       "      <td>COMMERCIAL PILOT FLIGHT INSTRUCTOR</td>\n",
       "      <td>2000.0</td>\n",
       "      <td>400.0</td>\n",
       "    </tr>\n",
       "    <tr>\n",
       "      <th>4</th>\n",
       "      <td>19780101000059I</td>\n",
       "      <td>1-Jan-78</td>\n",
       "      <td>TROUTDALE</td>\n",
       "      <td>OR</td>\n",
       "      <td>TROUTDALE MUNI</td>\n",
       "      <td>INCIDENT</td>\n",
       "      <td>MINOR</td>\n",
       "      <td>GROUND TAXI, OTHER AIRPLANE</td>\n",
       "      <td>CESSNA</td>\n",
       "      <td>172</td>\n",
       "      <td>...</td>\n",
       "      <td>738FD</td>\n",
       "      <td>0</td>\n",
       "      <td>0</td>\n",
       "      <td>NaN</td>\n",
       "      <td>NaN</td>\n",
       "      <td>NaN</td>\n",
       "      <td>1.0</td>\n",
       "      <td>COMMERCIAL PILOT</td>\n",
       "      <td>300.0</td>\n",
       "      <td>130.0</td>\n",
       "    </tr>\n",
       "    <tr>\n",
       "      <th>...</th>\n",
       "      <td>...</td>\n",
       "      <td>...</td>\n",
       "      <td>...</td>\n",
       "      <td>...</td>\n",
       "      <td>...</td>\n",
       "      <td>...</td>\n",
       "      <td>...</td>\n",
       "      <td>...</td>\n",
       "      <td>...</td>\n",
       "      <td>...</td>\n",
       "      <td>...</td>\n",
       "      <td>...</td>\n",
       "      <td>...</td>\n",
       "      <td>...</td>\n",
       "      <td>...</td>\n",
       "      <td>...</td>\n",
       "      <td>...</td>\n",
       "      <td>...</td>\n",
       "      <td>...</td>\n",
       "      <td>...</td>\n",
       "      <td>...</td>\n",
       "    </tr>\n",
       "    <tr>\n",
       "      <th>99995</th>\n",
       "      <td>20151217023139I</td>\n",
       "      <td>17-Dec-15</td>\n",
       "      <td>PHOENIX</td>\n",
       "      <td>AZ</td>\n",
       "      <td>PHOENIX SKY HARBOR INTL</td>\n",
       "      <td>INCIDENT</td>\n",
       "      <td>MINOR</td>\n",
       "      <td>TAKEOFF: CLIMB OUT</td>\n",
       "      <td>RAYTHEON</td>\n",
       "      <td>390</td>\n",
       "      <td>...</td>\n",
       "      <td>929SS</td>\n",
       "      <td>0</td>\n",
       "      <td>0</td>\n",
       "      <td>WILLIA</td>\n",
       "      <td>FJ44-2A</td>\n",
       "      <td>TURBOF</td>\n",
       "      <td>2.0</td>\n",
       "      <td>AIRLINE TRANSPORT PILOT FLIGHT INSTRUCTOR</td>\n",
       "      <td>NaN</td>\n",
       "      <td>230.0</td>\n",
       "    </tr>\n",
       "    <tr>\n",
       "      <th>99996</th>\n",
       "      <td>20151218021509I</td>\n",
       "      <td>18-Dec-15</td>\n",
       "      <td>NaN</td>\n",
       "      <td>NaN</td>\n",
       "      <td>CAMARILLO</td>\n",
       "      <td>INCIDENT</td>\n",
       "      <td>MINOR</td>\n",
       "      <td>LANDING: APPROACH</td>\n",
       "      <td>CESSNA</td>\n",
       "      <td>550</td>\n",
       "      <td>...</td>\n",
       "      <td>363CA</td>\n",
       "      <td>0</td>\n",
       "      <td>0</td>\n",
       "      <td>P&amp;W CA</td>\n",
       "      <td>PW530A</td>\n",
       "      <td>NaN</td>\n",
       "      <td>2.0</td>\n",
       "      <td>UNKNOWN/FOREIGN</td>\n",
       "      <td>5500.0</td>\n",
       "      <td>150.0</td>\n",
       "    </tr>\n",
       "    <tr>\n",
       "      <th>99997</th>\n",
       "      <td>20151218021729I</td>\n",
       "      <td>18-Dec-15</td>\n",
       "      <td>BELLEVILLE</td>\n",
       "      <td>MI</td>\n",
       "      <td>WILLOW RUN</td>\n",
       "      <td>INCIDENT</td>\n",
       "      <td>MINOR</td>\n",
       "      <td>MANEUVER</td>\n",
       "      <td>CESSNA</td>\n",
       "      <td>172RG</td>\n",
       "      <td>...</td>\n",
       "      <td>6545V</td>\n",
       "      <td>0</td>\n",
       "      <td>0</td>\n",
       "      <td>LYCOMI</td>\n",
       "      <td>O&amp;VO-360 SER</td>\n",
       "      <td>NaN</td>\n",
       "      <td>1.0</td>\n",
       "      <td>PRIVATE PILOT</td>\n",
       "      <td>267.0</td>\n",
       "      <td>44.0</td>\n",
       "    </tr>\n",
       "    <tr>\n",
       "      <th>99998</th>\n",
       "      <td>20151218024079I</td>\n",
       "      <td>18-Dec-15</td>\n",
       "      <td>LEAVENWORTH</td>\n",
       "      <td>KS</td>\n",
       "      <td>SHERMAN AAF</td>\n",
       "      <td>INCIDENT</td>\n",
       "      <td>MINOR</td>\n",
       "      <td>LANDING: TOUCHDOWN</td>\n",
       "      <td>PIPER</td>\n",
       "      <td>PA28</td>\n",
       "      <td>...</td>\n",
       "      <td>8338W</td>\n",
       "      <td>0</td>\n",
       "      <td>0</td>\n",
       "      <td>LYCOMI</td>\n",
       "      <td>O&amp;VO-360 SER</td>\n",
       "      <td>NaN</td>\n",
       "      <td>NaN</td>\n",
       "      <td>STUDENT</td>\n",
       "      <td>18.0</td>\n",
       "      <td>13.0</td>\n",
       "    </tr>\n",
       "    <tr>\n",
       "      <th>99999</th>\n",
       "      <td>20151218024182I</td>\n",
       "      <td>18-Dec-15</td>\n",
       "      <td>LOUISVILLE</td>\n",
       "      <td>KY</td>\n",
       "      <td>LOUISVILLE INTL-STANDIFORD FIELD</td>\n",
       "      <td>INCIDENT</td>\n",
       "      <td>MINOR</td>\n",
       "      <td>TAXI</td>\n",
       "      <td>BOEING</td>\n",
       "      <td>747</td>\n",
       "      <td>...</td>\n",
       "      <td>902AR</td>\n",
       "      <td>0</td>\n",
       "      <td>0</td>\n",
       "      <td>GE</td>\n",
       "      <td>CF6-80C2B5F</td>\n",
       "      <td>NaN</td>\n",
       "      <td>NaN</td>\n",
       "      <td>AIRLINE TRANSPORT</td>\n",
       "      <td>16372.0</td>\n",
       "      <td>NaN</td>\n",
       "    </tr>\n",
       "  </tbody>\n",
       "</table>\n",
       "<p>100000 rows × 25 columns</p>\n",
       "</div>"
      ],
      "text/plain": [
       "      AIDS Report Number Local Event Date   Event City Event State  \\\n",
       "0        19780101000019I         1-Jan-78     WAHPETON          ND   \n",
       "1        19780101000029I         1-Jan-78    FAIRBANKS          AK   \n",
       "2        19780101000039I         1-Jan-78    BRUNSWICK          GA   \n",
       "3        19780101000049I         1-Jan-78     CARLSBAD          CA   \n",
       "4        19780101000059I         1-Jan-78    TROUTDALE          OR   \n",
       "...                  ...              ...          ...         ...   \n",
       "99995    20151217023139I        17-Dec-15      PHOENIX          AZ   \n",
       "99996    20151218021509I        18-Dec-15          NaN         NaN   \n",
       "99997    20151218021729I        18-Dec-15   BELLEVILLE          MI   \n",
       "99998    20151218024079I        18-Dec-15  LEAVENWORTH          KS   \n",
       "99999    20151218024182I        18-Dec-15   LOUISVILLE          KY   \n",
       "\n",
       "                          Event Airport Event Type Aircraft Damage  \\\n",
       "0                          BRECKENRIDGE   INCIDENT           MINOR   \n",
       "1                        FAIRBANKS INTL   INCIDENT           MINOR   \n",
       "2                         JEKYLL ISLAND   INCIDENT             NaN   \n",
       "3                    MC CLELLAN-PALOMAR   INCIDENT           MINOR   \n",
       "4                        TROUTDALE MUNI   INCIDENT           MINOR   \n",
       "...                                 ...        ...             ...   \n",
       "99995           PHOENIX SKY HARBOR INTL   INCIDENT           MINOR   \n",
       "99996                         CAMARILLO   INCIDENT           MINOR   \n",
       "99997                        WILLOW RUN   INCIDENT           MINOR   \n",
       "99998                       SHERMAN AAF   INCIDENT           MINOR   \n",
       "99999  LOUISVILLE INTL-STANDIFORD FIELD   INCIDENT           MINOR   \n",
       "\n",
       "                      Flight Phase Aircraft Make Aircraft Model  ...  \\\n",
       "0            ROLL-OUT (FIXED WING)        CESSNA            182  ...   \n",
       "1            ROLL-OUT (FIXED WING)         PIPER           PA18  ...   \n",
       "2                    NORMAL CRUISE         BEECH             35  ...   \n",
       "3              LEVEL OFF TOUCHDOWN        CESSNA            310  ...   \n",
       "4      GROUND TAXI, OTHER AIRPLANE        CESSNA            172  ...   \n",
       "...                            ...           ...            ...  ...   \n",
       "99995           TAKEOFF: CLIMB OUT      RAYTHEON            390  ...   \n",
       "99996            LANDING: APPROACH        CESSNA            550  ...   \n",
       "99997                     MANEUVER        CESSNA          172RG  ...   \n",
       "99998           LANDING: TOUCHDOWN         PIPER           PA28  ...   \n",
       "99999                         TAXI        BOEING            747  ...   \n",
       "\n",
       "      Aircraft Registration Nbr Total Fatalities Total Injuries  \\\n",
       "0                         2691Q                0              0   \n",
       "1                         4073E                0              0   \n",
       "2                         7929D                0              0   \n",
       "3                         2250F                0              0   \n",
       "4                         738FD                0              0   \n",
       "...                         ...              ...            ...   \n",
       "99995                     929SS                0              0   \n",
       "99996                     363CA                0              0   \n",
       "99997                     6545V                0              0   \n",
       "99998                     8338W                0              0   \n",
       "99999                     902AR                0              0   \n",
       "\n",
       "      Aircraft Engine Make Aircraft Engine Model Engine Group Code  \\\n",
       "0                      NaN                   NaN               NaN   \n",
       "1                      NaN                   NaN               NaN   \n",
       "2                      NaN                   NaN               NaN   \n",
       "3                      NaN                   NaN               NaN   \n",
       "4                      NaN                   NaN               NaN   \n",
       "...                    ...                   ...               ...   \n",
       "99995               WILLIA               FJ44-2A            TURBOF   \n",
       "99996               P&W CA                PW530A               NaN   \n",
       "99997               LYCOMI          O&VO-360 SER               NaN   \n",
       "99998               LYCOMI          O&VO-360 SER               NaN   \n",
       "99999                   GE           CF6-80C2B5F               NaN   \n",
       "\n",
       "       Nbr of Engines                       PIC Certificate Type  \\\n",
       "0                 1.0                              PRIVATE PILOT   \n",
       "1                 1.0                                    STUDENT   \n",
       "2                 1.0                              PRIVATE PILOT   \n",
       "3                 2.0         COMMERCIAL PILOT FLIGHT INSTRUCTOR   \n",
       "4                 1.0                           COMMERCIAL PILOT   \n",
       "...               ...                                        ...   \n",
       "99995             2.0  AIRLINE TRANSPORT PILOT FLIGHT INSTRUCTOR   \n",
       "99996             2.0                            UNKNOWN/FOREIGN   \n",
       "99997             1.0                              PRIVATE PILOT   \n",
       "99998             NaN                                    STUDENT   \n",
       "99999             NaN                          AIRLINE TRANSPORT   \n",
       "\n",
       "      PIC Flight Time Total Hrs PIC Flight Time Total Make-Model  \n",
       "0                         245.0                            136.0  \n",
       "1                         200.0                              2.0  \n",
       "2                           NaN                              0.0  \n",
       "3                        2000.0                            400.0  \n",
       "4                         300.0                            130.0  \n",
       "...                         ...                              ...  \n",
       "99995                       NaN                            230.0  \n",
       "99996                    5500.0                            150.0  \n",
       "99997                     267.0                             44.0  \n",
       "99998                      18.0                             13.0  \n",
       "99999                   16372.0                              NaN  \n",
       "\n",
       "[100000 rows x 25 columns]"
      ]
     },
     "execution_count": 3,
     "metadata": {},
     "output_type": "execute_result"
    }
   ],
   "source": [
    "df_faa"
   ]
  },
  {
   "cell_type": "code",
   "execution_count": 4,
   "metadata": {},
   "outputs": [
    {
     "data": {
      "text/plain": [
       "(100000, 25)"
      ]
     },
     "execution_count": 4,
     "metadata": {},
     "output_type": "execute_result"
    }
   ],
   "source": [
    "df_faa.shape"
   ]
  },
  {
   "cell_type": "markdown",
   "metadata": {},
   "source": [
    "<br>"
   ]
  },
  {
   "cell_type": "markdown",
   "metadata": {},
   "source": [
    "### B. Data Preparation"
   ]
  },
  {
   "cell_type": "markdown",
   "metadata": {},
   "source": [
    "#### 1. Variables Selection"
   ]
  },
  {
   "cell_type": "code",
   "execution_count": 5,
   "metadata": {},
   "outputs": [
    {
     "data": {
      "text/html": [
       "<div>\n",
       "<style scoped>\n",
       "    .dataframe tbody tr th:only-of-type {\n",
       "        vertical-align: middle;\n",
       "    }\n",
       "\n",
       "    .dataframe tbody tr th {\n",
       "        vertical-align: top;\n",
       "    }\n",
       "\n",
       "    .dataframe thead th {\n",
       "        text-align: right;\n",
       "    }\n",
       "</style>\n",
       "<table border=\"1\" class=\"dataframe\">\n",
       "  <thead>\n",
       "    <tr style=\"text-align: right;\">\n",
       "      <th></th>\n",
       "      <th>Local Event Date</th>\n",
       "      <th>PIC Certificate Type</th>\n",
       "      <th>PIC Flight Time Total Hrs</th>\n",
       "    </tr>\n",
       "  </thead>\n",
       "  <tbody>\n",
       "    <tr>\n",
       "      <th>0</th>\n",
       "      <td>1-Jan-78</td>\n",
       "      <td>PRIVATE PILOT</td>\n",
       "      <td>245.0</td>\n",
       "    </tr>\n",
       "    <tr>\n",
       "      <th>1</th>\n",
       "      <td>1-Jan-78</td>\n",
       "      <td>STUDENT</td>\n",
       "      <td>200.0</td>\n",
       "    </tr>\n",
       "    <tr>\n",
       "      <th>2</th>\n",
       "      <td>1-Jan-78</td>\n",
       "      <td>PRIVATE PILOT</td>\n",
       "      <td>NaN</td>\n",
       "    </tr>\n",
       "    <tr>\n",
       "      <th>3</th>\n",
       "      <td>1-Jan-78</td>\n",
       "      <td>COMMERCIAL PILOT FLIGHT INSTRUCTOR</td>\n",
       "      <td>2000.0</td>\n",
       "    </tr>\n",
       "    <tr>\n",
       "      <th>4</th>\n",
       "      <td>1-Jan-78</td>\n",
       "      <td>COMMERCIAL PILOT</td>\n",
       "      <td>300.0</td>\n",
       "    </tr>\n",
       "    <tr>\n",
       "      <th>...</th>\n",
       "      <td>...</td>\n",
       "      <td>...</td>\n",
       "      <td>...</td>\n",
       "    </tr>\n",
       "    <tr>\n",
       "      <th>99995</th>\n",
       "      <td>17-Dec-15</td>\n",
       "      <td>AIRLINE TRANSPORT PILOT FLIGHT INSTRUCTOR</td>\n",
       "      <td>NaN</td>\n",
       "    </tr>\n",
       "    <tr>\n",
       "      <th>99996</th>\n",
       "      <td>18-Dec-15</td>\n",
       "      <td>UNKNOWN/FOREIGN</td>\n",
       "      <td>5500.0</td>\n",
       "    </tr>\n",
       "    <tr>\n",
       "      <th>99997</th>\n",
       "      <td>18-Dec-15</td>\n",
       "      <td>PRIVATE PILOT</td>\n",
       "      <td>267.0</td>\n",
       "    </tr>\n",
       "    <tr>\n",
       "      <th>99998</th>\n",
       "      <td>18-Dec-15</td>\n",
       "      <td>STUDENT</td>\n",
       "      <td>18.0</td>\n",
       "    </tr>\n",
       "    <tr>\n",
       "      <th>99999</th>\n",
       "      <td>18-Dec-15</td>\n",
       "      <td>AIRLINE TRANSPORT</td>\n",
       "      <td>16372.0</td>\n",
       "    </tr>\n",
       "  </tbody>\n",
       "</table>\n",
       "<p>100000 rows × 3 columns</p>\n",
       "</div>"
      ],
      "text/plain": [
       "      Local Event Date                       PIC Certificate Type  \\\n",
       "0             1-Jan-78                              PRIVATE PILOT   \n",
       "1             1-Jan-78                                    STUDENT   \n",
       "2             1-Jan-78                              PRIVATE PILOT   \n",
       "3             1-Jan-78         COMMERCIAL PILOT FLIGHT INSTRUCTOR   \n",
       "4             1-Jan-78                           COMMERCIAL PILOT   \n",
       "...                ...                                        ...   \n",
       "99995        17-Dec-15  AIRLINE TRANSPORT PILOT FLIGHT INSTRUCTOR   \n",
       "99996        18-Dec-15                            UNKNOWN/FOREIGN   \n",
       "99997        18-Dec-15                              PRIVATE PILOT   \n",
       "99998        18-Dec-15                                    STUDENT   \n",
       "99999        18-Dec-15                          AIRLINE TRANSPORT   \n",
       "\n",
       "       PIC Flight Time Total Hrs  \n",
       "0                          245.0  \n",
       "1                          200.0  \n",
       "2                            NaN  \n",
       "3                         2000.0  \n",
       "4                          300.0  \n",
       "...                          ...  \n",
       "99995                        NaN  \n",
       "99996                     5500.0  \n",
       "99997                      267.0  \n",
       "99998                       18.0  \n",
       "99999                    16372.0  \n",
       "\n",
       "[100000 rows x 3 columns]"
      ]
     },
     "execution_count": 5,
     "metadata": {},
     "output_type": "execute_result"
    }
   ],
   "source": [
    "# Drop the irrelevant features columns\n",
    "df_faa = df_faa.drop(['AIDS Report Number', 'Event State', 'Event Type', 'Event Airport', 'Aircraft Damage', 'Flight Phase', 'Aircraft Make', 'Aircraft Model', 'Aircraft Series', 'Operator', 'Primary Flight Type', 'Flight Conduct Code', 'Flight Plan Filed Code', 'Aircraft Registration Nbr', 'Aircraft Engine Make', 'Aircraft Engine Model', 'Engine Group Code' , 'Nbr of Engines', 'PIC Flight Time Total Make-Model', 'Event City', 'Total Fatalities', 'Total Injuries'], axis=1)\n",
    "df_faa"
   ]
  },
  {
   "cell_type": "code",
   "execution_count": 6,
   "metadata": {},
   "outputs": [
    {
     "data": {
      "text/plain": [
       "(100000, 3)"
      ]
     },
     "execution_count": 6,
     "metadata": {},
     "output_type": "execute_result"
    }
   ],
   "source": [
    "df_faa.shape"
   ]
  },
  {
   "cell_type": "markdown",
   "metadata": {},
   "source": [
    "#### 2. Data Cleaning"
   ]
  },
  {
   "cell_type": "markdown",
   "metadata": {},
   "source": [
    "#### 2.1 Check data information"
   ]
  },
  {
   "cell_type": "code",
   "execution_count": 7,
   "metadata": {},
   "outputs": [
    {
     "name": "stdout",
     "output_type": "stream",
     "text": [
      "<class 'pandas.core.frame.DataFrame'>\n",
      "RangeIndex: 100000 entries, 0 to 99999\n",
      "Data columns (total 3 columns):\n",
      " #   Column                     Non-Null Count   Dtype  \n",
      "---  ------                     --------------   -----  \n",
      " 0   Local Event Date           100000 non-null  object \n",
      " 1   PIC Certificate Type       91474 non-null   object \n",
      " 2   PIC Flight Time Total Hrs  79807 non-null   float64\n",
      "dtypes: float64(1), object(2)\n",
      "memory usage: 2.3+ MB\n"
     ]
    }
   ],
   "source": [
    "df_faa.info()"
   ]
  },
  {
   "cell_type": "markdown",
   "metadata": {},
   "source": [
    "#### 2.2 Duplicate rows (Redundant)"
   ]
  },
  {
   "cell_type": "code",
   "execution_count": 8,
   "metadata": {},
   "outputs": [
    {
     "name": "stdout",
     "output_type": "stream",
     "text": [
      "number of duplicate rows: (7193, 3)\n"
     ]
    }
   ],
   "source": [
    "# Rows containing duplicate data\n",
    "duplicate_rows_df = df_faa[df_faa.duplicated()]\n",
    "print(\"number of duplicate rows:\" , duplicate_rows_df.shape)"
   ]
  },
  {
   "cell_type": "code",
   "execution_count": 9,
   "metadata": {},
   "outputs": [
    {
     "data": {
      "text/plain": [
       "Local Event Date             100000\n",
       "PIC Certificate Type          91474\n",
       "PIC Flight Time Total Hrs     79807\n",
       "dtype: int64"
      ]
     },
     "execution_count": 9,
     "metadata": {},
     "output_type": "execute_result"
    }
   ],
   "source": [
    "# Used to count the number of rows before removing the data\n",
    "df_faa.count() "
   ]
  },
  {
   "cell_type": "code",
   "execution_count": 10,
   "metadata": {},
   "outputs": [
    {
     "data": {
      "text/plain": [
       "Local Event Date             92807\n",
       "PIC Certificate Type         86782\n",
       "PIC Flight Time Total Hrs    78958\n",
       "dtype: int64"
      ]
     },
     "execution_count": 10,
     "metadata": {},
     "output_type": "execute_result"
    }
   ],
   "source": [
    "# Dropping the duplicates \n",
    "df_faa = df_faa.drop_duplicates()\n",
    "df_faa.count()"
   ]
  },
  {
   "cell_type": "code",
   "execution_count": 11,
   "metadata": {},
   "outputs": [
    {
     "name": "stdout",
     "output_type": "stream",
     "text": [
      "number of duplicate rows: (0, 3)\n"
     ]
    }
   ],
   "source": [
    "# Recheck the remaining duplicated data\n",
    "duplicate_rows_df = df_faa[df_faa.duplicated()]\n",
    "print(\"number of duplicate rows:\" , duplicate_rows_df.shape)"
   ]
  },
  {
   "cell_type": "code",
   "execution_count": 12,
   "metadata": {},
   "outputs": [
    {
     "data": {
      "text/plain": [
       "Local Event Date             92807\n",
       "PIC Certificate Type         86782\n",
       "PIC Flight Time Total Hrs    78958\n",
       "dtype: int64"
      ]
     },
     "execution_count": 12,
     "metadata": {},
     "output_type": "execute_result"
    }
   ],
   "source": [
    "# Check the number of rows of each feature\n",
    "df_faa.count()"
   ]
  },
  {
   "cell_type": "markdown",
   "metadata": {},
   "source": [
    "#### 2.3 Missing or NaN data values"
   ]
  },
  {
   "cell_type": "code",
   "execution_count": 13,
   "metadata": {},
   "outputs": [
    {
     "name": "stdout",
     "output_type": "stream",
     "text": [
      "Local Event Date                 0\n",
      "PIC Certificate Type          6025\n",
      "PIC Flight Time Total Hrs    13849\n",
      "dtype: int64\n"
     ]
    }
   ],
   "source": [
    "# Finding the null values in each of the features.\n",
    "print(df_faa.isnull().sum())"
   ]
  },
  {
   "cell_type": "code",
   "execution_count": 14,
   "metadata": {},
   "outputs": [
    {
     "name": "stdout",
     "output_type": "stream",
     "text": [
      "Local Event Date             0\n",
      "PIC Certificate Type         0\n",
      "PIC Flight Time Total Hrs    0\n",
      "dtype: int64\n"
     ]
    }
   ],
   "source": [
    "# Dropping the missing values.\n",
    "df_faa = df_faa.dropna() \n",
    "\n",
    "# Recheck the null values after drop the null values before\n",
    "print(df_faa.isnull().sum()) "
   ]
  },
  {
   "cell_type": "code",
   "execution_count": 15,
   "metadata": {},
   "outputs": [
    {
     "data": {
      "text/plain": [
       "Local Event Date             77877\n",
       "PIC Certificate Type         77877\n",
       "PIC Flight Time Total Hrs    77877\n",
       "dtype: int64"
      ]
     },
     "execution_count": 15,
     "metadata": {},
     "output_type": "execute_result"
    }
   ],
   "source": [
    "# Count the number of row on each features after remove the missing values\n",
    "df_faa.count()"
   ]
  },
  {
   "cell_type": "code",
   "execution_count": 16,
   "metadata": {},
   "outputs": [
    {
     "data": {
      "text/html": [
       "<div>\n",
       "<style scoped>\n",
       "    .dataframe tbody tr th:only-of-type {\n",
       "        vertical-align: middle;\n",
       "    }\n",
       "\n",
       "    .dataframe tbody tr th {\n",
       "        vertical-align: top;\n",
       "    }\n",
       "\n",
       "    .dataframe thead th {\n",
       "        text-align: right;\n",
       "    }\n",
       "</style>\n",
       "<table border=\"1\" class=\"dataframe\">\n",
       "  <thead>\n",
       "    <tr style=\"text-align: right;\">\n",
       "      <th></th>\n",
       "      <th>Local Event Date</th>\n",
       "      <th>PIC Certificate Type</th>\n",
       "      <th>PIC Flight Time Total Hrs</th>\n",
       "    </tr>\n",
       "  </thead>\n",
       "  <tbody>\n",
       "    <tr>\n",
       "      <th>0</th>\n",
       "      <td>1-Jan-78</td>\n",
       "      <td>PRIVATE PILOT</td>\n",
       "      <td>245.0</td>\n",
       "    </tr>\n",
       "    <tr>\n",
       "      <th>1</th>\n",
       "      <td>1-Jan-78</td>\n",
       "      <td>STUDENT</td>\n",
       "      <td>200.0</td>\n",
       "    </tr>\n",
       "    <tr>\n",
       "      <th>3</th>\n",
       "      <td>1-Jan-78</td>\n",
       "      <td>COMMERCIAL PILOT FLIGHT INSTRUCTOR</td>\n",
       "      <td>2000.0</td>\n",
       "    </tr>\n",
       "    <tr>\n",
       "      <th>4</th>\n",
       "      <td>1-Jan-78</td>\n",
       "      <td>COMMERCIAL PILOT</td>\n",
       "      <td>300.0</td>\n",
       "    </tr>\n",
       "    <tr>\n",
       "      <th>7</th>\n",
       "      <td>1-Jan-78</td>\n",
       "      <td>COMMERCIAL PILOT</td>\n",
       "      <td>2700.0</td>\n",
       "    </tr>\n",
       "    <tr>\n",
       "      <th>...</th>\n",
       "      <td>...</td>\n",
       "      <td>...</td>\n",
       "      <td>...</td>\n",
       "    </tr>\n",
       "    <tr>\n",
       "      <th>99994</th>\n",
       "      <td>17-Dec-15</td>\n",
       "      <td>AIRLINE TRANSPORT</td>\n",
       "      <td>16650.0</td>\n",
       "    </tr>\n",
       "    <tr>\n",
       "      <th>99996</th>\n",
       "      <td>18-Dec-15</td>\n",
       "      <td>UNKNOWN/FOREIGN</td>\n",
       "      <td>5500.0</td>\n",
       "    </tr>\n",
       "    <tr>\n",
       "      <th>99997</th>\n",
       "      <td>18-Dec-15</td>\n",
       "      <td>PRIVATE PILOT</td>\n",
       "      <td>267.0</td>\n",
       "    </tr>\n",
       "    <tr>\n",
       "      <th>99998</th>\n",
       "      <td>18-Dec-15</td>\n",
       "      <td>STUDENT</td>\n",
       "      <td>18.0</td>\n",
       "    </tr>\n",
       "    <tr>\n",
       "      <th>99999</th>\n",
       "      <td>18-Dec-15</td>\n",
       "      <td>AIRLINE TRANSPORT</td>\n",
       "      <td>16372.0</td>\n",
       "    </tr>\n",
       "  </tbody>\n",
       "</table>\n",
       "<p>77877 rows × 3 columns</p>\n",
       "</div>"
      ],
      "text/plain": [
       "      Local Event Date                PIC Certificate Type  \\\n",
       "0             1-Jan-78                       PRIVATE PILOT   \n",
       "1             1-Jan-78                             STUDENT   \n",
       "3             1-Jan-78  COMMERCIAL PILOT FLIGHT INSTRUCTOR   \n",
       "4             1-Jan-78                    COMMERCIAL PILOT   \n",
       "7             1-Jan-78                    COMMERCIAL PILOT   \n",
       "...                ...                                 ...   \n",
       "99994        17-Dec-15                   AIRLINE TRANSPORT   \n",
       "99996        18-Dec-15                     UNKNOWN/FOREIGN   \n",
       "99997        18-Dec-15                       PRIVATE PILOT   \n",
       "99998        18-Dec-15                             STUDENT   \n",
       "99999        18-Dec-15                   AIRLINE TRANSPORT   \n",
       "\n",
       "       PIC Flight Time Total Hrs  \n",
       "0                          245.0  \n",
       "1                          200.0  \n",
       "3                         2000.0  \n",
       "4                          300.0  \n",
       "7                         2700.0  \n",
       "...                          ...  \n",
       "99994                    16650.0  \n",
       "99996                     5500.0  \n",
       "99997                      267.0  \n",
       "99998                       18.0  \n",
       "99999                    16372.0  \n",
       "\n",
       "[77877 rows x 3 columns]"
      ]
     },
     "execution_count": 16,
     "metadata": {},
     "output_type": "execute_result"
    }
   ],
   "source": [
    "df_faa"
   ]
  },
  {
   "cell_type": "markdown",
   "metadata": {},
   "source": [
    "#### 2.4 Detecting and removing outliers"
   ]
  },
  {
   "cell_type": "code",
   "execution_count": 17,
   "metadata": {},
   "outputs": [
    {
     "data": {
      "text/plain": [
       "<AxesSubplot:xlabel='PIC Flight Time Total Hrs'>"
      ]
     },
     "execution_count": 17,
     "metadata": {},
     "output_type": "execute_result"
    },
    {
     "data": {
      "image/png": "[encoded data removed]",
      "text/plain": [
       "<Figure size 432x288 with 1 Axes>"
      ]
     },
     "metadata": {},
     "output_type": "display_data"
    }
   ],
   "source": [
    "# Detecting outliers using Pilot Flight time feature, the reason why using it because the range of each values is not normal\n",
    "# and if it not fixed, it will disturb the result\n",
    "\n",
    "sns.boxplot(x=df_faa['PIC Flight Time Total Hrs'])"
   ]
  },
  {
   "cell_type": "code",
   "execution_count": 18,
   "metadata": {},
   "outputs": [
    {
     "name": "stdout",
     "output_type": "stream",
     "text": [
      "4600.0\n"
     ]
    }
   ],
   "source": [
    "# We will detect the outliers using Quantiles method\n",
    "# Q1 is 1/4 and Q3 is 3/4\n",
    "Q1 = np.quantile(df_faa['PIC Flight Time Total Hrs'], 0.25)\n",
    "Q3 = np.quantile(df_faa['PIC Flight Time Total Hrs'], 0.75)\n",
    "IQR = Q3 - Q1\n",
    "print(IQR)"
   ]
  },
  {
   "cell_type": "code",
   "execution_count": 19,
   "metadata": {},
   "outputs": [
    {
     "data": {
      "text/plain": [
       "(-6500.0, 7300.0)"
      ]
     },
     "execution_count": 19,
     "metadata": {},
     "output_type": "execute_result"
    }
   ],
   "source": [
    "lower_limit = Q1 - 1.5*IQR\n",
    "upper_limit = Q1 + 1.5*IQR\n",
    "lower_limit, upper_limit"
   ]
  },
  {
   "cell_type": "code",
   "execution_count": 20,
   "metadata": {},
   "outputs": [
    {
     "data": {
      "text/html": [
       "<div>\n",
       "<style scoped>\n",
       "    .dataframe tbody tr th:only-of-type {\n",
       "        vertical-align: middle;\n",
       "    }\n",
       "\n",
       "    .dataframe tbody tr th {\n",
       "        vertical-align: top;\n",
       "    }\n",
       "\n",
       "    .dataframe thead th {\n",
       "        text-align: right;\n",
       "    }\n",
       "</style>\n",
       "<table border=\"1\" class=\"dataframe\">\n",
       "  <thead>\n",
       "    <tr style=\"text-align: right;\">\n",
       "      <th></th>\n",
       "      <th>Local Event Date</th>\n",
       "      <th>PIC Certificate Type</th>\n",
       "      <th>PIC Flight Time Total Hrs</th>\n",
       "    </tr>\n",
       "  </thead>\n",
       "  <tbody>\n",
       "    <tr>\n",
       "      <th>51</th>\n",
       "      <td>4-Jan-78</td>\n",
       "      <td>AIRLINE TRANSPORT</td>\n",
       "      <td>14750.0</td>\n",
       "    </tr>\n",
       "    <tr>\n",
       "      <th>56</th>\n",
       "      <td>4-Jan-78</td>\n",
       "      <td>COMMERCIAL PILOT</td>\n",
       "      <td>8000.0</td>\n",
       "    </tr>\n",
       "    <tr>\n",
       "      <th>58</th>\n",
       "      <td>4-Jan-78</td>\n",
       "      <td>AIRLINE TRANSPORT</td>\n",
       "      <td>8600.0</td>\n",
       "    </tr>\n",
       "    <tr>\n",
       "      <th>62</th>\n",
       "      <td>5-Jan-78</td>\n",
       "      <td>AIRLINE TRANSPORT</td>\n",
       "      <td>11955.0</td>\n",
       "    </tr>\n",
       "    <tr>\n",
       "      <th>63</th>\n",
       "      <td>5-Jan-78</td>\n",
       "      <td>AIRLINE TRANSPORT</td>\n",
       "      <td>14000.0</td>\n",
       "    </tr>\n",
       "    <tr>\n",
       "      <th>...</th>\n",
       "      <td>...</td>\n",
       "      <td>...</td>\n",
       "      <td>...</td>\n",
       "    </tr>\n",
       "    <tr>\n",
       "      <th>99967</th>\n",
       "      <td>4-Dec-15</td>\n",
       "      <td>PRIVATE PILOT</td>\n",
       "      <td>20000.0</td>\n",
       "    </tr>\n",
       "    <tr>\n",
       "      <th>99968</th>\n",
       "      <td>5-Dec-15</td>\n",
       "      <td>COMMERCIAL PILOT</td>\n",
       "      <td>9000.0</td>\n",
       "    </tr>\n",
       "    <tr>\n",
       "      <th>99972</th>\n",
       "      <td>6-Dec-15</td>\n",
       "      <td>AIRLINE TRANSPORT</td>\n",
       "      <td>15050.0</td>\n",
       "    </tr>\n",
       "    <tr>\n",
       "      <th>99994</th>\n",
       "      <td>17-Dec-15</td>\n",
       "      <td>AIRLINE TRANSPORT</td>\n",
       "      <td>16650.0</td>\n",
       "    </tr>\n",
       "    <tr>\n",
       "      <th>99999</th>\n",
       "      <td>18-Dec-15</td>\n",
       "      <td>AIRLINE TRANSPORT</td>\n",
       "      <td>16372.0</td>\n",
       "    </tr>\n",
       "  </tbody>\n",
       "</table>\n",
       "<p>13608 rows × 3 columns</p>\n",
       "</div>"
      ],
      "text/plain": [
       "      Local Event Date PIC Certificate Type  PIC Flight Time Total Hrs\n",
       "51            4-Jan-78    AIRLINE TRANSPORT                    14750.0\n",
       "56            4-Jan-78     COMMERCIAL PILOT                     8000.0\n",
       "58            4-Jan-78    AIRLINE TRANSPORT                     8600.0\n",
       "62            5-Jan-78    AIRLINE TRANSPORT                    11955.0\n",
       "63            5-Jan-78    AIRLINE TRANSPORT                    14000.0\n",
       "...                ...                  ...                        ...\n",
       "99967         4-Dec-15        PRIVATE PILOT                    20000.0\n",
       "99968         5-Dec-15     COMMERCIAL PILOT                     9000.0\n",
       "99972         6-Dec-15    AIRLINE TRANSPORT                    15050.0\n",
       "99994        17-Dec-15    AIRLINE TRANSPORT                    16650.0\n",
       "99999        18-Dec-15    AIRLINE TRANSPORT                    16372.0\n",
       "\n",
       "[13608 rows x 3 columns]"
      ]
     },
     "execution_count": 20,
     "metadata": {},
     "output_type": "execute_result"
    }
   ],
   "source": [
    "# Get the outliers data\n",
    "pilotHours = df_faa['PIC Flight Time Total Hrs']\n",
    "# Print the data which is outliers\n",
    "dfOutliers = df_faa[(pilotHours < lower_limit) | (pilotHours > upper_limit)]\n",
    "dfOutliers"
   ]
  },
  {
   "cell_type": "code",
   "execution_count": 21,
   "metadata": {},
   "outputs": [
    {
     "name": "stdout",
     "output_type": "stream",
     "text": [
      "(13608, 3)\n"
     ]
    }
   ],
   "source": [
    "# Count the shape of outliers\n",
    "print(dfOutliers.shape)"
   ]
  },
  {
   "cell_type": "markdown",
   "metadata": {},
   "source": [
    "<p>We can see the information that we have 12.546 rows which are outliers, now we can select the way to fix it, whether fix the value or remove it. I would rather remove it than fix the value.</p>"
   ]
  },
  {
   "cell_type": "code",
   "execution_count": 22,
   "metadata": {},
   "outputs": [
    {
     "data": {
      "text/html": [
       "<div>\n",
       "<style scoped>\n",
       "    .dataframe tbody tr th:only-of-type {\n",
       "        vertical-align: middle;\n",
       "    }\n",
       "\n",
       "    .dataframe tbody tr th {\n",
       "        vertical-align: top;\n",
       "    }\n",
       "\n",
       "    .dataframe thead th {\n",
       "        text-align: right;\n",
       "    }\n",
       "</style>\n",
       "<table border=\"1\" class=\"dataframe\">\n",
       "  <thead>\n",
       "    <tr style=\"text-align: right;\">\n",
       "      <th></th>\n",
       "      <th>Local Event Date</th>\n",
       "      <th>PIC Certificate Type</th>\n",
       "      <th>PIC Flight Time Total Hrs</th>\n",
       "    </tr>\n",
       "  </thead>\n",
       "  <tbody>\n",
       "    <tr>\n",
       "      <th>0</th>\n",
       "      <td>1-Jan-78</td>\n",
       "      <td>PRIVATE PILOT</td>\n",
       "      <td>245.0</td>\n",
       "    </tr>\n",
       "    <tr>\n",
       "      <th>1</th>\n",
       "      <td>1-Jan-78</td>\n",
       "      <td>STUDENT</td>\n",
       "      <td>200.0</td>\n",
       "    </tr>\n",
       "    <tr>\n",
       "      <th>2</th>\n",
       "      <td>1-Jan-78</td>\n",
       "      <td>COMMERCIAL PILOT FLIGHT INSTRUCTOR</td>\n",
       "      <td>2000.0</td>\n",
       "    </tr>\n",
       "    <tr>\n",
       "      <th>3</th>\n",
       "      <td>1-Jan-78</td>\n",
       "      <td>COMMERCIAL PILOT</td>\n",
       "      <td>300.0</td>\n",
       "    </tr>\n",
       "    <tr>\n",
       "      <th>4</th>\n",
       "      <td>1-Jan-78</td>\n",
       "      <td>COMMERCIAL PILOT</td>\n",
       "      <td>2700.0</td>\n",
       "    </tr>\n",
       "    <tr>\n",
       "      <th>...</th>\n",
       "      <td>...</td>\n",
       "      <td>...</td>\n",
       "      <td>...</td>\n",
       "    </tr>\n",
       "    <tr>\n",
       "      <th>64200</th>\n",
       "      <td>14-Dec-15</td>\n",
       "      <td>PRIVATE PILOT</td>\n",
       "      <td>935.0</td>\n",
       "    </tr>\n",
       "    <tr>\n",
       "      <th>64201</th>\n",
       "      <td>15-Dec-15</td>\n",
       "      <td>COMMERCIAL PILOT FLIGHT INSTRUCTOR</td>\n",
       "      <td>2200.0</td>\n",
       "    </tr>\n",
       "    <tr>\n",
       "      <th>64202</th>\n",
       "      <td>18-Dec-15</td>\n",
       "      <td>UNKNOWN/FOREIGN</td>\n",
       "      <td>5500.0</td>\n",
       "    </tr>\n",
       "    <tr>\n",
       "      <th>64203</th>\n",
       "      <td>18-Dec-15</td>\n",
       "      <td>PRIVATE PILOT</td>\n",
       "      <td>267.0</td>\n",
       "    </tr>\n",
       "    <tr>\n",
       "      <th>64204</th>\n",
       "      <td>18-Dec-15</td>\n",
       "      <td>STUDENT</td>\n",
       "      <td>18.0</td>\n",
       "    </tr>\n",
       "  </tbody>\n",
       "</table>\n",
       "<p>64205 rows × 3 columns</p>\n",
       "</div>"
      ],
      "text/plain": [
       "      Local Event Date                PIC Certificate Type  \\\n",
       "0             1-Jan-78                       PRIVATE PILOT   \n",
       "1             1-Jan-78                             STUDENT   \n",
       "2             1-Jan-78  COMMERCIAL PILOT FLIGHT INSTRUCTOR   \n",
       "3             1-Jan-78                    COMMERCIAL PILOT   \n",
       "4             1-Jan-78                    COMMERCIAL PILOT   \n",
       "...                ...                                 ...   \n",
       "64200        14-Dec-15                       PRIVATE PILOT   \n",
       "64201        15-Dec-15  COMMERCIAL PILOT FLIGHT INSTRUCTOR   \n",
       "64202        18-Dec-15                     UNKNOWN/FOREIGN   \n",
       "64203        18-Dec-15                       PRIVATE PILOT   \n",
       "64204        18-Dec-15                             STUDENT   \n",
       "\n",
       "       PIC Flight Time Total Hrs  \n",
       "0                          245.0  \n",
       "1                          200.0  \n",
       "2                         2000.0  \n",
       "3                          300.0  \n",
       "4                         2700.0  \n",
       "...                          ...  \n",
       "64200                      935.0  \n",
       "64201                     2200.0  \n",
       "64202                     5500.0  \n",
       "64203                      267.0  \n",
       "64204                       18.0  \n",
       "\n",
       "[64205 rows x 3 columns]"
      ]
     },
     "execution_count": 22,
     "metadata": {},
     "output_type": "execute_result"
    }
   ],
   "source": [
    "# Remove the outliers\n",
    "df_faa_no_outliers = df_faa[(pilotHours > lower_limit) & (pilotHours < upper_limit)]\n",
    "df_faa_no_outliers = df_faa_no_outliers.reset_index()\n",
    "\n",
    "df_faa_no_outliers = df_faa_no_outliers.drop(['index'], axis=1)\n",
    "df_faa_no_outliers"
   ]
  },
  {
   "cell_type": "markdown",
   "metadata": {},
   "source": [
    "<br>"
   ]
  },
  {
   "cell_type": "markdown",
   "metadata": {},
   "source": [
    "#### 3. Data Transformation"
   ]
  },
  {
   "cell_type": "markdown",
   "metadata": {},
   "source": [
    "#### 3.1 Add Year Columns"
   ]
  },
  {
   "cell_type": "code",
   "execution_count": 23,
   "metadata": {},
   "outputs": [
    {
     "data": {
      "text/html": [
       "<div>\n",
       "<style scoped>\n",
       "    .dataframe tbody tr th:only-of-type {\n",
       "        vertical-align: middle;\n",
       "    }\n",
       "\n",
       "    .dataframe tbody tr th {\n",
       "        vertical-align: top;\n",
       "    }\n",
       "\n",
       "    .dataframe thead th {\n",
       "        text-align: right;\n",
       "    }\n",
       "</style>\n",
       "<table border=\"1\" class=\"dataframe\">\n",
       "  <thead>\n",
       "    <tr style=\"text-align: right;\">\n",
       "      <th></th>\n",
       "      <th>Local Event Date</th>\n",
       "      <th>PIC Certificate Type</th>\n",
       "      <th>PIC Flight Time Total Hrs</th>\n",
       "      <th>Year</th>\n",
       "    </tr>\n",
       "  </thead>\n",
       "  <tbody>\n",
       "    <tr>\n",
       "      <th>0</th>\n",
       "      <td>1-Jan-78</td>\n",
       "      <td>PRIVATE PILOT</td>\n",
       "      <td>245.0</td>\n",
       "      <td>1978</td>\n",
       "    </tr>\n",
       "    <tr>\n",
       "      <th>1</th>\n",
       "      <td>1-Jan-78</td>\n",
       "      <td>STUDENT</td>\n",
       "      <td>200.0</td>\n",
       "      <td>1978</td>\n",
       "    </tr>\n",
       "    <tr>\n",
       "      <th>2</th>\n",
       "      <td>1-Jan-78</td>\n",
       "      <td>COMMERCIAL PILOT FLIGHT INSTRUCTOR</td>\n",
       "      <td>2000.0</td>\n",
       "      <td>1978</td>\n",
       "    </tr>\n",
       "    <tr>\n",
       "      <th>3</th>\n",
       "      <td>1-Jan-78</td>\n",
       "      <td>COMMERCIAL PILOT</td>\n",
       "      <td>300.0</td>\n",
       "      <td>1978</td>\n",
       "    </tr>\n",
       "    <tr>\n",
       "      <th>4</th>\n",
       "      <td>1-Jan-78</td>\n",
       "      <td>COMMERCIAL PILOT</td>\n",
       "      <td>2700.0</td>\n",
       "      <td>1978</td>\n",
       "    </tr>\n",
       "    <tr>\n",
       "      <th>...</th>\n",
       "      <td>...</td>\n",
       "      <td>...</td>\n",
       "      <td>...</td>\n",
       "      <td>...</td>\n",
       "    </tr>\n",
       "    <tr>\n",
       "      <th>64200</th>\n",
       "      <td>14-Dec-15</td>\n",
       "      <td>PRIVATE PILOT</td>\n",
       "      <td>935.0</td>\n",
       "      <td>2015</td>\n",
       "    </tr>\n",
       "    <tr>\n",
       "      <th>64201</th>\n",
       "      <td>15-Dec-15</td>\n",
       "      <td>COMMERCIAL PILOT FLIGHT INSTRUCTOR</td>\n",
       "      <td>2200.0</td>\n",
       "      <td>2015</td>\n",
       "    </tr>\n",
       "    <tr>\n",
       "      <th>64202</th>\n",
       "      <td>18-Dec-15</td>\n",
       "      <td>UNKNOWN/FOREIGN</td>\n",
       "      <td>5500.0</td>\n",
       "      <td>2015</td>\n",
       "    </tr>\n",
       "    <tr>\n",
       "      <th>64203</th>\n",
       "      <td>18-Dec-15</td>\n",
       "      <td>PRIVATE PILOT</td>\n",
       "      <td>267.0</td>\n",
       "      <td>2015</td>\n",
       "    </tr>\n",
       "    <tr>\n",
       "      <th>64204</th>\n",
       "      <td>18-Dec-15</td>\n",
       "      <td>STUDENT</td>\n",
       "      <td>18.0</td>\n",
       "      <td>2015</td>\n",
       "    </tr>\n",
       "  </tbody>\n",
       "</table>\n",
       "<p>64205 rows × 4 columns</p>\n",
       "</div>"
      ],
      "text/plain": [
       "      Local Event Date                PIC Certificate Type  \\\n",
       "0             1-Jan-78                       PRIVATE PILOT   \n",
       "1             1-Jan-78                             STUDENT   \n",
       "2             1-Jan-78  COMMERCIAL PILOT FLIGHT INSTRUCTOR   \n",
       "3             1-Jan-78                    COMMERCIAL PILOT   \n",
       "4             1-Jan-78                    COMMERCIAL PILOT   \n",
       "...                ...                                 ...   \n",
       "64200        14-Dec-15                       PRIVATE PILOT   \n",
       "64201        15-Dec-15  COMMERCIAL PILOT FLIGHT INSTRUCTOR   \n",
       "64202        18-Dec-15                     UNKNOWN/FOREIGN   \n",
       "64203        18-Dec-15                       PRIVATE PILOT   \n",
       "64204        18-Dec-15                             STUDENT   \n",
       "\n",
       "       PIC Flight Time Total Hrs  Year  \n",
       "0                          245.0  1978  \n",
       "1                          200.0  1978  \n",
       "2                         2000.0  1978  \n",
       "3                          300.0  1978  \n",
       "4                         2700.0  1978  \n",
       "...                          ...   ...  \n",
       "64200                      935.0  2015  \n",
       "64201                     2200.0  2015  \n",
       "64202                     5500.0  2015  \n",
       "64203                      267.0  2015  \n",
       "64204                       18.0  2015  \n",
       "\n",
       "[64205 rows x 4 columns]"
      ]
     },
     "execution_count": 23,
     "metadata": {},
     "output_type": "execute_result"
    }
   ],
   "source": [
    "# Add column Year based on Local Event Date Column\n",
    "df_faa_no_outliers['Year'] = pd.DatetimeIndex(df_faa_no_outliers.loc[:, 'Local Event Date']).year\n",
    "df_faa_no_outliers"
   ]
  },
  {
   "cell_type": "markdown",
   "metadata": {},
   "source": [
    "<br>"
   ]
  },
  {
   "cell_type": "markdown",
   "metadata": {},
   "source": [
    "#### 3.2 Get rid of categorical values"
   ]
  },
  {
   "cell_type": "markdown",
   "metadata": {},
   "source": [
    "#### 3.2.1 Get the unique value from PIC Certificate Type"
   ]
  },
  {
   "cell_type": "code",
   "execution_count": 24,
   "metadata": {},
   "outputs": [
    {
     "data": {
      "text/html": [
       "<div>\n",
       "<style scoped>\n",
       "    .dataframe tbody tr th:only-of-type {\n",
       "        vertical-align: middle;\n",
       "    }\n",
       "\n",
       "    .dataframe tbody tr th {\n",
       "        vertical-align: top;\n",
       "    }\n",
       "\n",
       "    .dataframe thead th {\n",
       "        text-align: right;\n",
       "    }\n",
       "</style>\n",
       "<table border=\"1\" class=\"dataframe\">\n",
       "  <thead>\n",
       "    <tr style=\"text-align: right;\">\n",
       "      <th></th>\n",
       "      <th>Local Event Date</th>\n",
       "      <th>PIC Certificate Type</th>\n",
       "      <th>PIC Flight Time Total Hrs</th>\n",
       "      <th>Year</th>\n",
       "    </tr>\n",
       "  </thead>\n",
       "  <tbody>\n",
       "    <tr>\n",
       "      <th>0</th>\n",
       "      <td>1-Jan-78</td>\n",
       "      <td>PRIVATE PILOT</td>\n",
       "      <td>245.0</td>\n",
       "      <td>1978</td>\n",
       "    </tr>\n",
       "    <tr>\n",
       "      <th>1</th>\n",
       "      <td>1-Jan-78</td>\n",
       "      <td>STUDENT</td>\n",
       "      <td>200.0</td>\n",
       "      <td>1978</td>\n",
       "    </tr>\n",
       "    <tr>\n",
       "      <th>2</th>\n",
       "      <td>1-Jan-78</td>\n",
       "      <td>COMMERCIAL PILOT</td>\n",
       "      <td>300.0</td>\n",
       "      <td>1978</td>\n",
       "    </tr>\n",
       "    <tr>\n",
       "      <th>3</th>\n",
       "      <td>1-Jan-78</td>\n",
       "      <td>COMMERCIAL PILOT</td>\n",
       "      <td>2700.0</td>\n",
       "      <td>1978</td>\n",
       "    </tr>\n",
       "    <tr>\n",
       "      <th>4</th>\n",
       "      <td>1-Jan-78</td>\n",
       "      <td>PRIVATE PILOT</td>\n",
       "      <td>450.0</td>\n",
       "      <td>1978</td>\n",
       "    </tr>\n",
       "    <tr>\n",
       "      <th>...</th>\n",
       "      <td>...</td>\n",
       "      <td>...</td>\n",
       "      <td>...</td>\n",
       "      <td>...</td>\n",
       "    </tr>\n",
       "    <tr>\n",
       "      <th>55163</th>\n",
       "      <td>12-Dec-15</td>\n",
       "      <td>COMMERCIAL PILOT</td>\n",
       "      <td>960.0</td>\n",
       "      <td>2015</td>\n",
       "    </tr>\n",
       "    <tr>\n",
       "      <th>55164</th>\n",
       "      <td>13-Dec-15</td>\n",
       "      <td>PRIVATE PILOT</td>\n",
       "      <td>2398.0</td>\n",
       "      <td>2015</td>\n",
       "    </tr>\n",
       "    <tr>\n",
       "      <th>55165</th>\n",
       "      <td>14-Dec-15</td>\n",
       "      <td>PRIVATE PILOT</td>\n",
       "      <td>935.0</td>\n",
       "      <td>2015</td>\n",
       "    </tr>\n",
       "    <tr>\n",
       "      <th>55166</th>\n",
       "      <td>18-Dec-15</td>\n",
       "      <td>PRIVATE PILOT</td>\n",
       "      <td>267.0</td>\n",
       "      <td>2015</td>\n",
       "    </tr>\n",
       "    <tr>\n",
       "      <th>55167</th>\n",
       "      <td>18-Dec-15</td>\n",
       "      <td>STUDENT</td>\n",
       "      <td>18.0</td>\n",
       "      <td>2015</td>\n",
       "    </tr>\n",
       "  </tbody>\n",
       "</table>\n",
       "<p>55168 rows × 4 columns</p>\n",
       "</div>"
      ],
      "text/plain": [
       "      Local Event Date PIC Certificate Type  PIC Flight Time Total Hrs  Year\n",
       "0             1-Jan-78        PRIVATE PILOT                      245.0  1978\n",
       "1             1-Jan-78              STUDENT                      200.0  1978\n",
       "2             1-Jan-78     COMMERCIAL PILOT                      300.0  1978\n",
       "3             1-Jan-78     COMMERCIAL PILOT                     2700.0  1978\n",
       "4             1-Jan-78        PRIVATE PILOT                      450.0  1978\n",
       "...                ...                  ...                        ...   ...\n",
       "55163        12-Dec-15     COMMERCIAL PILOT                      960.0  2015\n",
       "55164        13-Dec-15        PRIVATE PILOT                     2398.0  2015\n",
       "55165        14-Dec-15        PRIVATE PILOT                      935.0  2015\n",
       "55166        18-Dec-15        PRIVATE PILOT                      267.0  2015\n",
       "55167        18-Dec-15              STUDENT                       18.0  2015\n",
       "\n",
       "[55168 rows x 4 columns]"
      ]
     },
     "execution_count": 24,
     "metadata": {},
     "output_type": "execute_result"
    }
   ],
   "source": [
    "certificate = df_faa_no_outliers['PIC Certificate Type']\n",
    "unknown_1 = df_faa_no_outliers[(certificate == 'UNKNOWN/FOREIGN') | (certificate == 'AIRLINE TRANSPORT PILOT FLIGHT INSTRUCTOR')].index\n",
    "unknown_2 = df_faa_no_outliers[(certificate == 'COMMERCIAL PILOT FLIGHT INSTRUCTOR') | (certificate == 'PRIVATE PILOT FLIGHT INSTRUCTOR')].index\n",
    "#print(unknown)\n",
    "\n",
    "# drop these given row\n",
    "df_faa_no_outliers.drop(unknown_1, inplace = True)\n",
    "df_faa_no_outliers.drop(unknown_2, inplace = True)\n",
    "\n",
    "\n",
    "# Reset the index value\n",
    "df_faa_no_outliers = df_faa_no_outliers.reset_index()\n",
    "df_faa_no_outliers = df_faa_no_outliers.drop(['index'], axis=1)\n",
    "df_faa_no_outliers"
   ]
  },
  {
   "cell_type": "markdown",
   "metadata": {},
   "source": [
    "#### 3.2.2 Visualize the unique values from PIC Certifiate Type"
   ]
  },
  {
   "cell_type": "code",
   "execution_count": 26,
   "metadata": {},
   "outputs": [
    {
     "name": "stderr",
     "output_type": "stream",
     "text": [
      "C:\\Users\\User\\anaconda3\\lib\\site-packages\\seaborn\\_decorators.py:36: FutureWarning: Pass the following variables as keyword args: x, y. From version 0.12, the only valid positional argument will be `data`, and passing other arguments without an explicit keyword will result in an error or misinterpretation.\n",
      "  warnings.warn(\n"
     ]
    },
    {
     "data": {
      "image/png": "[encoded data removed]",
      "text/plain": [
       "<Figure size 432x288 with 1 Axes>"
      ]
     },
     "metadata": {},
     "output_type": "display_data"
    }
   ],
   "source": [
    "certificate_count = df_faa_no_outliers['PIC Certificate Type'].value_counts()\n",
    "sns.set(style=\"darkgrid\")\n",
    "sns.barplot(certificate_count.index, certificate_count.values, alpha=0.9)\n",
    "plt.title('Frequency Distribution of Certificates')\n",
    "plt.ylabel('Number of Occurrences', fontsize=12)\n",
    "plt.xlabel('Certificates', fontsize=12)\n",
    "plt.xticks(rotation=90)\n",
    "plt.show()"
   ]
  },
  {
   "cell_type": "code",
   "execution_count": 27,
   "metadata": {},
   "outputs": [
    {
     "name": "stdout",
     "output_type": "stream",
     "text": [
      "Index(['PRIVATE PILOT', 'COMMERCIAL PILOT', 'AIRLINE TRANSPORT', 'STUDENT',\n",
      "       'PILOT NOT CERTIFICATED', 'RECREATIONAL PILOT', 'SPECIAL PURPOSE'],\n",
      "      dtype='object')\n"
     ]
    }
   ],
   "source": [
    "certificate_count = df_faa_no_outliers['PIC Certificate Type'].value_counts()\n",
    "print(certificate_count.index)"
   ]
  },
  {
   "cell_type": "markdown",
   "metadata": {},
   "source": [
    "#### 3.2.4 Encoding PIC Certificate Type using LabelEncoder"
   ]
  },
  {
   "cell_type": "code",
   "execution_count": 28,
   "metadata": {},
   "outputs": [],
   "source": [
    "# Import the appropriate Library\n",
    "from sklearn.preprocessing import LabelEncoder"
   ]
  },
  {
   "cell_type": "code",
   "execution_count": 29,
   "metadata": {},
   "outputs": [
    {
     "name": "stdout",
     "output_type": "stream",
     "text": [
      "[3 6 1 ... 3 3 6]\n"
     ]
    }
   ],
   "source": [
    "encoder = LabelEncoder()\n",
    "encoded_cert = encoder.fit_transform(df_faa_no_outliers.loc[:, 'PIC Certificate Type'])\n",
    "print(encoded_cert)"
   ]
  },
  {
   "cell_type": "code",
   "execution_count": 30,
   "metadata": {},
   "outputs": [],
   "source": [
    "# Replace the current PIC Certificate Type columns with the encoded values\n",
    "df_faa_no_outliers['PIC Certificate Type'] = encoded_cert"
   ]
  },
  {
   "cell_type": "code",
   "execution_count": 31,
   "metadata": {},
   "outputs": [
    {
     "data": {
      "text/html": [
       "<div>\n",
       "<style scoped>\n",
       "    .dataframe tbody tr th:only-of-type {\n",
       "        vertical-align: middle;\n",
       "    }\n",
       "\n",
       "    .dataframe tbody tr th {\n",
       "        vertical-align: top;\n",
       "    }\n",
       "\n",
       "    .dataframe thead th {\n",
       "        text-align: right;\n",
       "    }\n",
       "</style>\n",
       "<table border=\"1\" class=\"dataframe\">\n",
       "  <thead>\n",
       "    <tr style=\"text-align: right;\">\n",
       "      <th></th>\n",
       "      <th>Local Event Date</th>\n",
       "      <th>PIC Certificate Type</th>\n",
       "      <th>PIC Flight Time Total Hrs</th>\n",
       "      <th>Year</th>\n",
       "    </tr>\n",
       "  </thead>\n",
       "  <tbody>\n",
       "    <tr>\n",
       "      <th>0</th>\n",
       "      <td>1-Jan-78</td>\n",
       "      <td>3</td>\n",
       "      <td>245.0</td>\n",
       "      <td>1978</td>\n",
       "    </tr>\n",
       "    <tr>\n",
       "      <th>1</th>\n",
       "      <td>1-Jan-78</td>\n",
       "      <td>6</td>\n",
       "      <td>200.0</td>\n",
       "      <td>1978</td>\n",
       "    </tr>\n",
       "    <tr>\n",
       "      <th>2</th>\n",
       "      <td>1-Jan-78</td>\n",
       "      <td>1</td>\n",
       "      <td>300.0</td>\n",
       "      <td>1978</td>\n",
       "    </tr>\n",
       "    <tr>\n",
       "      <th>3</th>\n",
       "      <td>1-Jan-78</td>\n",
       "      <td>1</td>\n",
       "      <td>2700.0</td>\n",
       "      <td>1978</td>\n",
       "    </tr>\n",
       "    <tr>\n",
       "      <th>4</th>\n",
       "      <td>1-Jan-78</td>\n",
       "      <td>3</td>\n",
       "      <td>450.0</td>\n",
       "      <td>1978</td>\n",
       "    </tr>\n",
       "    <tr>\n",
       "      <th>...</th>\n",
       "      <td>...</td>\n",
       "      <td>...</td>\n",
       "      <td>...</td>\n",
       "      <td>...</td>\n",
       "    </tr>\n",
       "    <tr>\n",
       "      <th>55163</th>\n",
       "      <td>12-Dec-15</td>\n",
       "      <td>1</td>\n",
       "      <td>960.0</td>\n",
       "      <td>2015</td>\n",
       "    </tr>\n",
       "    <tr>\n",
       "      <th>55164</th>\n",
       "      <td>13-Dec-15</td>\n",
       "      <td>3</td>\n",
       "      <td>2398.0</td>\n",
       "      <td>2015</td>\n",
       "    </tr>\n",
       "    <tr>\n",
       "      <th>55165</th>\n",
       "      <td>14-Dec-15</td>\n",
       "      <td>3</td>\n",
       "      <td>935.0</td>\n",
       "      <td>2015</td>\n",
       "    </tr>\n",
       "    <tr>\n",
       "      <th>55166</th>\n",
       "      <td>18-Dec-15</td>\n",
       "      <td>3</td>\n",
       "      <td>267.0</td>\n",
       "      <td>2015</td>\n",
       "    </tr>\n",
       "    <tr>\n",
       "      <th>55167</th>\n",
       "      <td>18-Dec-15</td>\n",
       "      <td>6</td>\n",
       "      <td>18.0</td>\n",
       "      <td>2015</td>\n",
       "    </tr>\n",
       "  </tbody>\n",
       "</table>\n",
       "<p>55168 rows × 4 columns</p>\n",
       "</div>"
      ],
      "text/plain": [
       "      Local Event Date  PIC Certificate Type  PIC Flight Time Total Hrs  Year\n",
       "0             1-Jan-78                     3                      245.0  1978\n",
       "1             1-Jan-78                     6                      200.0  1978\n",
       "2             1-Jan-78                     1                      300.0  1978\n",
       "3             1-Jan-78                     1                     2700.0  1978\n",
       "4             1-Jan-78                     3                      450.0  1978\n",
       "...                ...                   ...                        ...   ...\n",
       "55163        12-Dec-15                     1                      960.0  2015\n",
       "55164        13-Dec-15                     3                     2398.0  2015\n",
       "55165        14-Dec-15                     3                      935.0  2015\n",
       "55166        18-Dec-15                     3                      267.0  2015\n",
       "55167        18-Dec-15                     6                       18.0  2015\n",
       "\n",
       "[55168 rows x 4 columns]"
      ]
     },
     "execution_count": 31,
     "metadata": {},
     "output_type": "execute_result"
    }
   ],
   "source": [
    "# Visualize the new dataframe\n",
    "df_faa_no_outliers"
   ]
  },
  {
   "cell_type": "markdown",
   "metadata": {},
   "source": [
    "#### 3.2.5 Visualize the encoded values"
   ]
  },
  {
   "cell_type": "code",
   "execution_count": 33,
   "metadata": {},
   "outputs": [
    {
     "name": "stderr",
     "output_type": "stream",
     "text": [
      "C:\\Users\\User\\anaconda3\\lib\\site-packages\\seaborn\\_decorators.py:36: FutureWarning: Pass the following variables as keyword args: x, y. From version 0.12, the only valid positional argument will be `data`, and passing other arguments without an explicit keyword will result in an error or misinterpretation.\n",
      "  warnings.warn(\n"
     ]
    },
    {
     "data": {
      "image/png": "[encoded data removed]",
      "text/plain": [
       "<Figure size 432x288 with 1 Axes>"
      ]
     },
     "metadata": {},
     "output_type": "display_data"
    }
   ],
   "source": [
    "certificate_count = df_faa_no_outliers['PIC Certificate Type'].value_counts()\n",
    "#certificate_count.sort_values(certificate_count.values, ascending=True)\n",
    "sns.set(style=\"darkgrid\")\n",
    "sns.barplot(certificate_count.index, certificate_count.values, alpha=0.9)\n",
    "plt.title('Frequency Distribution of Certificates')\n",
    "plt.ylabel('Number of Occurrences', fontsize=12)\n",
    "plt.xlabel('Certificates', fontsize=12)\n",
    "plt.show()"
   ]
  },
  {
   "cell_type": "code",
   "execution_count": 34,
   "metadata": {},
   "outputs": [
    {
     "data": {
      "text/plain": [
       "(55168, 4)"
      ]
     },
     "execution_count": 34,
     "metadata": {},
     "output_type": "execute_result"
    }
   ],
   "source": [
    "df_faa_no_outliers.shape"
   ]
  },
  {
   "cell_type": "markdown",
   "metadata": {},
   "source": [
    "<br>"
   ]
  },
  {
   "cell_type": "markdown",
   "metadata": {},
   "source": [
    "#### 4. Data Reduction"
   ]
  },
  {
   "cell_type": "markdown",
   "metadata": {},
   "source": [
    "#### 4.1 Remove data < 2010"
   ]
  },
  {
   "cell_type": "code",
   "execution_count": 35,
   "metadata": {},
   "outputs": [],
   "source": [
    "# Delete rows based on column condition\n",
    "old_years = df_faa_no_outliers[ (df_faa_no_outliers['Year']) < 2010 ].index\n",
    "# print(old_years)\n",
    "\n",
    "# drop these given row\n",
    "df_faa_no_outliers.drop(old_years, inplace = True)\n",
    "\n",
    "# Reset the index value\n",
    "df_faa_no_outliers = df_faa_no_outliers.reset_index()\n",
    "df_faa_no_outliers = df_faa_no_outliers.drop(['index'], axis=1)"
   ]
  },
  {
   "cell_type": "code",
   "execution_count": 36,
   "metadata": {},
   "outputs": [
    {
     "data": {
      "text/html": [
       "<div>\n",
       "<style scoped>\n",
       "    .dataframe tbody tr th:only-of-type {\n",
       "        vertical-align: middle;\n",
       "    }\n",
       "\n",
       "    .dataframe tbody tr th {\n",
       "        vertical-align: top;\n",
       "    }\n",
       "\n",
       "    .dataframe thead th {\n",
       "        text-align: right;\n",
       "    }\n",
       "</style>\n",
       "<table border=\"1\" class=\"dataframe\">\n",
       "  <thead>\n",
       "    <tr style=\"text-align: right;\">\n",
       "      <th></th>\n",
       "      <th>Local Event Date</th>\n",
       "      <th>PIC Certificate Type</th>\n",
       "      <th>PIC Flight Time Total Hrs</th>\n",
       "      <th>Year</th>\n",
       "    </tr>\n",
       "  </thead>\n",
       "  <tbody>\n",
       "    <tr>\n",
       "      <th>0</th>\n",
       "      <td>1-Jan-10</td>\n",
       "      <td>1</td>\n",
       "      <td>0.0</td>\n",
       "      <td>2010</td>\n",
       "    </tr>\n",
       "    <tr>\n",
       "      <th>1</th>\n",
       "      <td>2-Jan-10</td>\n",
       "      <td>3</td>\n",
       "      <td>430.0</td>\n",
       "      <td>2010</td>\n",
       "    </tr>\n",
       "    <tr>\n",
       "      <th>2</th>\n",
       "      <td>3-Jan-10</td>\n",
       "      <td>3</td>\n",
       "      <td>1294.0</td>\n",
       "      <td>2010</td>\n",
       "    </tr>\n",
       "    <tr>\n",
       "      <th>3</th>\n",
       "      <td>3-Jan-10</td>\n",
       "      <td>1</td>\n",
       "      <td>1500.0</td>\n",
       "      <td>2010</td>\n",
       "    </tr>\n",
       "    <tr>\n",
       "      <th>4</th>\n",
       "      <td>5-Jan-10</td>\n",
       "      <td>1</td>\n",
       "      <td>280.0</td>\n",
       "      <td>2010</td>\n",
       "    </tr>\n",
       "    <tr>\n",
       "      <th>...</th>\n",
       "      <td>...</td>\n",
       "      <td>...</td>\n",
       "      <td>...</td>\n",
       "      <td>...</td>\n",
       "    </tr>\n",
       "    <tr>\n",
       "      <th>3731</th>\n",
       "      <td>12-Dec-15</td>\n",
       "      <td>1</td>\n",
       "      <td>960.0</td>\n",
       "      <td>2015</td>\n",
       "    </tr>\n",
       "    <tr>\n",
       "      <th>3732</th>\n",
       "      <td>13-Dec-15</td>\n",
       "      <td>3</td>\n",
       "      <td>2398.0</td>\n",
       "      <td>2015</td>\n",
       "    </tr>\n",
       "    <tr>\n",
       "      <th>3733</th>\n",
       "      <td>14-Dec-15</td>\n",
       "      <td>3</td>\n",
       "      <td>935.0</td>\n",
       "      <td>2015</td>\n",
       "    </tr>\n",
       "    <tr>\n",
       "      <th>3734</th>\n",
       "      <td>18-Dec-15</td>\n",
       "      <td>3</td>\n",
       "      <td>267.0</td>\n",
       "      <td>2015</td>\n",
       "    </tr>\n",
       "    <tr>\n",
       "      <th>3735</th>\n",
       "      <td>18-Dec-15</td>\n",
       "      <td>6</td>\n",
       "      <td>18.0</td>\n",
       "      <td>2015</td>\n",
       "    </tr>\n",
       "  </tbody>\n",
       "</table>\n",
       "<p>3736 rows × 4 columns</p>\n",
       "</div>"
      ],
      "text/plain": [
       "     Local Event Date  PIC Certificate Type  PIC Flight Time Total Hrs  Year\n",
       "0            1-Jan-10                     1                        0.0  2010\n",
       "1            2-Jan-10                     3                      430.0  2010\n",
       "2            3-Jan-10                     3                     1294.0  2010\n",
       "3            3-Jan-10                     1                     1500.0  2010\n",
       "4            5-Jan-10                     1                      280.0  2010\n",
       "...               ...                   ...                        ...   ...\n",
       "3731        12-Dec-15                     1                      960.0  2015\n",
       "3732        13-Dec-15                     3                     2398.0  2015\n",
       "3733        14-Dec-15                     3                      935.0  2015\n",
       "3734        18-Dec-15                     3                      267.0  2015\n",
       "3735        18-Dec-15                     6                       18.0  2015\n",
       "\n",
       "[3736 rows x 4 columns]"
      ]
     },
     "execution_count": 36,
     "metadata": {},
     "output_type": "execute_result"
    }
   ],
   "source": [
    "df_faa_no_outliers"
   ]
  },
  {
   "cell_type": "code",
   "execution_count": 37,
   "metadata": {},
   "outputs": [
    {
     "data": {
      "text/plain": [
       "(3736, 4)"
      ]
     },
     "execution_count": 37,
     "metadata": {},
     "output_type": "execute_result"
    }
   ],
   "source": [
    "df_faa_no_outliers.shape"
   ]
  },
  {
   "cell_type": "markdown",
   "metadata": {},
   "source": [
    "<br>"
   ]
  },
  {
   "cell_type": "markdown",
   "metadata": {},
   "source": [
    "#### 4.2 Principal Component Analysis (PCA)"
   ]
  },
  {
   "cell_type": "code",
   "execution_count": 38,
   "metadata": {},
   "outputs": [],
   "source": [
    "df_faa_clustering = df_faa_no_outliers.copy()"
   ]
  },
  {
   "cell_type": "code",
   "execution_count": 39,
   "metadata": {},
   "outputs": [
    {
     "data": {
      "text/html": [
       "<div>\n",
       "<style scoped>\n",
       "    .dataframe tbody tr th:only-of-type {\n",
       "        vertical-align: middle;\n",
       "    }\n",
       "\n",
       "    .dataframe tbody tr th {\n",
       "        vertical-align: top;\n",
       "    }\n",
       "\n",
       "    .dataframe thead th {\n",
       "        text-align: right;\n",
       "    }\n",
       "</style>\n",
       "<table border=\"1\" class=\"dataframe\">\n",
       "  <thead>\n",
       "    <tr style=\"text-align: right;\">\n",
       "      <th></th>\n",
       "      <th>PIC Certificate Type</th>\n",
       "      <th>PIC Flight Time Total Hrs</th>\n",
       "    </tr>\n",
       "  </thead>\n",
       "  <tbody>\n",
       "    <tr>\n",
       "      <th>0</th>\n",
       "      <td>1</td>\n",
       "      <td>0.0</td>\n",
       "    </tr>\n",
       "    <tr>\n",
       "      <th>1</th>\n",
       "      <td>3</td>\n",
       "      <td>430.0</td>\n",
       "    </tr>\n",
       "    <tr>\n",
       "      <th>2</th>\n",
       "      <td>3</td>\n",
       "      <td>1294.0</td>\n",
       "    </tr>\n",
       "    <tr>\n",
       "      <th>3</th>\n",
       "      <td>1</td>\n",
       "      <td>1500.0</td>\n",
       "    </tr>\n",
       "    <tr>\n",
       "      <th>4</th>\n",
       "      <td>1</td>\n",
       "      <td>280.0</td>\n",
       "    </tr>\n",
       "  </tbody>\n",
       "</table>\n",
       "</div>"
      ],
      "text/plain": [
       "   PIC Certificate Type  PIC Flight Time Total Hrs\n",
       "0                     1                        0.0\n",
       "1                     3                      430.0\n",
       "2                     3                     1294.0\n",
       "3                     1                     1500.0\n",
       "4                     1                      280.0"
      ]
     },
     "execution_count": 39,
     "metadata": {},
     "output_type": "execute_result"
    }
   ],
   "source": [
    "df_faa_clustering = df_faa_clustering.drop(['Local Event Date', 'Year'], axis=1)\n",
    "df_faa_clustering.head()"
   ]
  },
  {
   "cell_type": "code",
   "execution_count": 40,
   "metadata": {},
   "outputs": [
    {
     "data": {
      "text/html": [
       "<div>\n",
       "<style scoped>\n",
       "    .dataframe tbody tr th:only-of-type {\n",
       "        vertical-align: middle;\n",
       "    }\n",
       "\n",
       "    .dataframe tbody tr th {\n",
       "        vertical-align: top;\n",
       "    }\n",
       "\n",
       "    .dataframe thead th {\n",
       "        text-align: right;\n",
       "    }\n",
       "</style>\n",
       "<table border=\"1\" class=\"dataframe\">\n",
       "  <thead>\n",
       "    <tr style=\"text-align: right;\">\n",
       "      <th></th>\n",
       "      <th>PIC Certificate Type</th>\n",
       "      <th>PIC Flight Time Total Hrs</th>\n",
       "    </tr>\n",
       "  </thead>\n",
       "  <tbody>\n",
       "    <tr>\n",
       "      <th>0</th>\n",
       "      <td>1</td>\n",
       "      <td>0.0</td>\n",
       "    </tr>\n",
       "    <tr>\n",
       "      <th>1</th>\n",
       "      <td>3</td>\n",
       "      <td>430.0</td>\n",
       "    </tr>\n",
       "    <tr>\n",
       "      <th>2</th>\n",
       "      <td>3</td>\n",
       "      <td>1294.0</td>\n",
       "    </tr>\n",
       "    <tr>\n",
       "      <th>3</th>\n",
       "      <td>1</td>\n",
       "      <td>1500.0</td>\n",
       "    </tr>\n",
       "    <tr>\n",
       "      <th>4</th>\n",
       "      <td>1</td>\n",
       "      <td>280.0</td>\n",
       "    </tr>\n",
       "    <tr>\n",
       "      <th>5</th>\n",
       "      <td>1</td>\n",
       "      <td>1944.0</td>\n",
       "    </tr>\n",
       "    <tr>\n",
       "      <th>6</th>\n",
       "      <td>3</td>\n",
       "      <td>1600.0</td>\n",
       "    </tr>\n",
       "    <tr>\n",
       "      <th>7</th>\n",
       "      <td>0</td>\n",
       "      <td>0.0</td>\n",
       "    </tr>\n",
       "    <tr>\n",
       "      <th>8</th>\n",
       "      <td>1</td>\n",
       "      <td>1870.0</td>\n",
       "    </tr>\n",
       "    <tr>\n",
       "      <th>9</th>\n",
       "      <td>1</td>\n",
       "      <td>336.0</td>\n",
       "    </tr>\n",
       "  </tbody>\n",
       "</table>\n",
       "</div>"
      ],
      "text/plain": [
       "   PIC Certificate Type  PIC Flight Time Total Hrs\n",
       "0                     1                        0.0\n",
       "1                     3                      430.0\n",
       "2                     3                     1294.0\n",
       "3                     1                     1500.0\n",
       "4                     1                      280.0\n",
       "5                     1                     1944.0\n",
       "6                     3                     1600.0\n",
       "7                     0                        0.0\n",
       "8                     1                     1870.0\n",
       "9                     1                      336.0"
      ]
     },
     "execution_count": 40,
     "metadata": {},
     "output_type": "execute_result"
    }
   ],
   "source": [
    "df_faa_clustering.head(10)"
   ]
  },
  {
   "cell_type": "code",
   "execution_count": 41,
   "metadata": {},
   "outputs": [],
   "source": [
    "from sklearn import preprocessing"
   ]
  },
  {
   "cell_type": "code",
   "execution_count": 42,
   "metadata": {},
   "outputs": [],
   "source": [
    "scaler = preprocessing.StandardScaler()"
   ]
  },
  {
   "cell_type": "code",
   "execution_count": 43,
   "metadata": {},
   "outputs": [
    {
     "name": "stdout",
     "output_type": "stream",
     "text": [
      "[[-1.07845056 -0.88734671]\n",
      " [ 0.24734453 -0.6379143 ]\n",
      " [ 0.24734453 -0.13672917]\n",
      " ...\n",
      " [ 0.24734453 -0.34497623]\n",
      " [ 0.24734453 -0.73246659]\n",
      " [ 2.23603717 -0.87690536]]\n"
     ]
    }
   ],
   "source": [
    "standardScaler_df = scaler.fit_transform(df_faa_clustering)\n",
    "print(standardScaler_df)"
   ]
  },
  {
   "cell_type": "code",
   "execution_count": 44,
   "metadata": {},
   "outputs": [
    {
     "data": {
      "text/html": [
       "<div>\n",
       "<style scoped>\n",
       "    .dataframe tbody tr th:only-of-type {\n",
       "        vertical-align: middle;\n",
       "    }\n",
       "\n",
       "    .dataframe tbody tr th {\n",
       "        vertical-align: top;\n",
       "    }\n",
       "\n",
       "    .dataframe thead th {\n",
       "        text-align: right;\n",
       "    }\n",
       "</style>\n",
       "<table border=\"1\" class=\"dataframe\">\n",
       "  <thead>\n",
       "    <tr style=\"text-align: right;\">\n",
       "      <th></th>\n",
       "      <th>PIC Certificate Type</th>\n",
       "      <th>PIC Flight Time Total Hrs</th>\n",
       "    </tr>\n",
       "  </thead>\n",
       "  <tbody>\n",
       "    <tr>\n",
       "      <th>0</th>\n",
       "      <td>-1.078451</td>\n",
       "      <td>-0.887347</td>\n",
       "    </tr>\n",
       "    <tr>\n",
       "      <th>1</th>\n",
       "      <td>0.247345</td>\n",
       "      <td>-0.637914</td>\n",
       "    </tr>\n",
       "    <tr>\n",
       "      <th>2</th>\n",
       "      <td>0.247345</td>\n",
       "      <td>-0.136729</td>\n",
       "    </tr>\n",
       "    <tr>\n",
       "      <th>3</th>\n",
       "      <td>-1.078451</td>\n",
       "      <td>-0.017234</td>\n",
       "    </tr>\n",
       "    <tr>\n",
       "      <th>4</th>\n",
       "      <td>-1.078451</td>\n",
       "      <td>-0.724926</td>\n",
       "    </tr>\n",
       "  </tbody>\n",
       "</table>\n",
       "</div>"
      ],
      "text/plain": [
       "   PIC Certificate Type  PIC Flight Time Total Hrs\n",
       "0             -1.078451                  -0.887347\n",
       "1              0.247345                  -0.637914\n",
       "2              0.247345                  -0.136729\n",
       "3             -1.078451                  -0.017234\n",
       "4             -1.078451                  -0.724926"
      ]
     },
     "execution_count": 44,
     "metadata": {},
     "output_type": "execute_result"
    }
   ],
   "source": [
    "scaler_df = pd.DataFrame(data = standardScaler_df, columns= ['PIC Certificate Type', 'PIC Flight Time Total Hrs'])\n",
    "scaler_df.head()"
   ]
  },
  {
   "cell_type": "code",
   "execution_count": 45,
   "metadata": {},
   "outputs": [
    {
     "data": {
      "text/html": [
       "<div>\n",
       "<style scoped>\n",
       "    .dataframe tbody tr th:only-of-type {\n",
       "        vertical-align: middle;\n",
       "    }\n",
       "\n",
       "    .dataframe tbody tr th {\n",
       "        vertical-align: top;\n",
       "    }\n",
       "\n",
       "    .dataframe thead th {\n",
       "        text-align: right;\n",
       "    }\n",
       "</style>\n",
       "<table border=\"1\" class=\"dataframe\">\n",
       "  <thead>\n",
       "    <tr style=\"text-align: right;\">\n",
       "      <th></th>\n",
       "      <th>PIC Certificate Type</th>\n",
       "      <th>PIC Flight Time Total Hrs</th>\n",
       "    </tr>\n",
       "  </thead>\n",
       "  <tbody>\n",
       "    <tr>\n",
       "      <th>0</th>\n",
       "      <td>-1.078451</td>\n",
       "      <td>-0.887347</td>\n",
       "    </tr>\n",
       "    <tr>\n",
       "      <th>1</th>\n",
       "      <td>0.247345</td>\n",
       "      <td>-0.637914</td>\n",
       "    </tr>\n",
       "    <tr>\n",
       "      <th>2</th>\n",
       "      <td>0.247345</td>\n",
       "      <td>-0.136729</td>\n",
       "    </tr>\n",
       "    <tr>\n",
       "      <th>3</th>\n",
       "      <td>-1.078451</td>\n",
       "      <td>-0.017234</td>\n",
       "    </tr>\n",
       "    <tr>\n",
       "      <th>4</th>\n",
       "      <td>-1.078451</td>\n",
       "      <td>-0.724926</td>\n",
       "    </tr>\n",
       "    <tr>\n",
       "      <th>5</th>\n",
       "      <td>-1.078451</td>\n",
       "      <td>0.240320</td>\n",
       "    </tr>\n",
       "    <tr>\n",
       "      <th>6</th>\n",
       "      <td>0.247345</td>\n",
       "      <td>0.040774</td>\n",
       "    </tr>\n",
       "    <tr>\n",
       "      <th>7</th>\n",
       "      <td>-1.741348</td>\n",
       "      <td>-0.887347</td>\n",
       "    </tr>\n",
       "    <tr>\n",
       "      <th>8</th>\n",
       "      <td>-1.078451</td>\n",
       "      <td>0.197394</td>\n",
       "    </tr>\n",
       "    <tr>\n",
       "      <th>9</th>\n",
       "      <td>-1.078451</td>\n",
       "      <td>-0.692441</td>\n",
       "    </tr>\n",
       "  </tbody>\n",
       "</table>\n",
       "</div>"
      ],
      "text/plain": [
       "   PIC Certificate Type  PIC Flight Time Total Hrs\n",
       "0             -1.078451                  -0.887347\n",
       "1              0.247345                  -0.637914\n",
       "2              0.247345                  -0.136729\n",
       "3             -1.078451                  -0.017234\n",
       "4             -1.078451                  -0.724926\n",
       "5             -1.078451                   0.240320\n",
       "6              0.247345                   0.040774\n",
       "7             -1.741348                  -0.887347\n",
       "8             -1.078451                   0.197394\n",
       "9             -1.078451                  -0.692441"
      ]
     },
     "execution_count": 45,
     "metadata": {},
     "output_type": "execute_result"
    }
   ],
   "source": [
    "scaler_df.head(10)"
   ]
  },
  {
   "cell_type": "code",
   "execution_count": 46,
   "metadata": {},
   "outputs": [],
   "source": [
    "from sklearn.decomposition import PCA"
   ]
  },
  {
   "cell_type": "code",
   "execution_count": 47,
   "metadata": {},
   "outputs": [],
   "source": [
    "pca_reducer = PCA(n_components=2)\n",
    "reduced_data = pca_reducer.fit_transform(standardScaler_df)"
   ]
  },
  {
   "cell_type": "code",
   "execution_count": 48,
   "metadata": {},
   "outputs": [
    {
     "data": {
      "text/plain": [
       "(3736, 2)"
      ]
     },
     "execution_count": 48,
     "metadata": {},
     "output_type": "execute_result"
    }
   ],
   "source": [
    "reduced_data.shape"
   ]
  },
  {
   "cell_type": "code",
   "execution_count": 49,
   "metadata": {},
   "outputs": [
    {
     "data": {
      "text/html": [
       "<div>\n",
       "<style scoped>\n",
       "    .dataframe tbody tr th:only-of-type {\n",
       "        vertical-align: middle;\n",
       "    }\n",
       "\n",
       "    .dataframe tbody tr th {\n",
       "        vertical-align: top;\n",
       "    }\n",
       "\n",
       "    .dataframe thead th {\n",
       "        text-align: right;\n",
       "    }\n",
       "</style>\n",
       "<table border=\"1\" class=\"dataframe\">\n",
       "  <thead>\n",
       "    <tr style=\"text-align: right;\">\n",
       "      <th></th>\n",
       "      <th>PIC Certificate Type</th>\n",
       "      <th>PIC Flight Time Total Hrs</th>\n",
       "    </tr>\n",
       "  </thead>\n",
       "  <tbody>\n",
       "    <tr>\n",
       "      <th>0</th>\n",
       "      <td>0.135131</td>\n",
       "      <td>-1.390029</td>\n",
       "    </tr>\n",
       "    <tr>\n",
       "      <th>1</th>\n",
       "      <td>-0.625973</td>\n",
       "      <td>-0.276175</td>\n",
       "    </tr>\n",
       "    <tr>\n",
       "      <th>2</th>\n",
       "      <td>-0.271581</td>\n",
       "      <td>0.078217</td>\n",
       "    </tr>\n",
       "    <tr>\n",
       "      <th>3</th>\n",
       "      <td>0.750394</td>\n",
       "      <td>-0.774766</td>\n",
       "    </tr>\n",
       "    <tr>\n",
       "      <th>4</th>\n",
       "      <td>0.249980</td>\n",
       "      <td>-1.275180</td>\n",
       "    </tr>\n",
       "    <tr>\n",
       "      <th>5</th>\n",
       "      <td>0.932511</td>\n",
       "      <td>-0.592648</td>\n",
       "    </tr>\n",
       "    <tr>\n",
       "      <th>6</th>\n",
       "      <td>-0.146067</td>\n",
       "      <td>0.203730</td>\n",
       "    </tr>\n",
       "    <tr>\n",
       "      <th>7</th>\n",
       "      <td>0.603870</td>\n",
       "      <td>-1.858768</td>\n",
       "    </tr>\n",
       "    <tr>\n",
       "      <th>8</th>\n",
       "      <td>0.902159</td>\n",
       "      <td>-0.623001</td>\n",
       "    </tr>\n",
       "    <tr>\n",
       "      <th>9</th>\n",
       "      <td>0.272950</td>\n",
       "      <td>-1.252210</td>\n",
       "    </tr>\n",
       "  </tbody>\n",
       "</table>\n",
       "</div>"
      ],
      "text/plain": [
       "   PIC Certificate Type  PIC Flight Time Total Hrs\n",
       "0              0.135131                  -1.390029\n",
       "1             -0.625973                  -0.276175\n",
       "2             -0.271581                   0.078217\n",
       "3              0.750394                  -0.774766\n",
       "4              0.249980                  -1.275180\n",
       "5              0.932511                  -0.592648\n",
       "6             -0.146067                   0.203730\n",
       "7              0.603870                  -1.858768\n",
       "8              0.902159                  -0.623001\n",
       "9              0.272950                  -1.252210"
      ]
     },
     "execution_count": 49,
     "metadata": {},
     "output_type": "execute_result"
    }
   ],
   "source": [
    "cluster_df = pd.DataFrame(data = reduced_data, columns= ['PIC Certificate Type', 'PIC Flight Time Total Hrs'])\n",
    "cluster_df.head(10)"
   ]
  },
  {
   "cell_type": "markdown",
   "metadata": {},
   "source": [
    "<br>"
   ]
  },
  {
   "cell_type": "markdown",
   "metadata": {},
   "source": [
    "### C. Clustering"
   ]
  },
  {
   "cell_type": "code",
   "execution_count": 50,
   "metadata": {},
   "outputs": [],
   "source": [
    "from sklearn.cluster import KMeans"
   ]
  },
  {
   "cell_type": "code",
   "execution_count": 51,
   "metadata": {},
   "outputs": [],
   "source": [
    "km = KMeans(n_clusters=4)"
   ]
  },
  {
   "cell_type": "code",
   "execution_count": 52,
   "metadata": {},
   "outputs": [],
   "source": [
    "cluster = km.fit(reduced_data)"
   ]
  },
  {
   "cell_type": "code",
   "execution_count": 53,
   "metadata": {},
   "outputs": [
    {
     "data": {
      "image/png": "[encoded data removed]",
      "text/plain": [
       "<Figure size 432x288 with 1 Axes>"
      ]
     },
     "metadata": {},
     "output_type": "display_data"
    }
   ],
   "source": [
    "plt.scatter(reduced_data[:, 0], reduced_data[:, 1], label='Datapoints')\n",
    "plt.scatter(cluster.cluster_centers_[:, 0], cluster.cluster_centers_[:, 1], label='Clusters')\n",
    "plt.title(\"Sklearn version of KMeans\")\n",
    "plt.legend()\n",
    "plt.show()"
   ]
  },
  {
   "cell_type": "code",
   "execution_count": 54,
   "metadata": {},
   "outputs": [
    {
     "name": "stdout",
     "output_type": "stream",
     "text": [
      "[[-0.45137274 -0.10289452]\n",
      " [ 2.07014326  0.74173865]\n",
      " [-2.18064887  0.98158522]\n",
      " [ 0.84087926 -0.81544432]]\n"
     ]
    }
   ],
   "source": [
    "centers = km.cluster_centers_\n",
    "print(centers)"
   ]
  },
  {
   "cell_type": "code",
   "execution_count": 55,
   "metadata": {},
   "outputs": [
    {
     "name": "stdout",
     "output_type": "stream",
     "text": [
      "[3 0 0 ... 0 0 2]\n"
     ]
    }
   ],
   "source": [
    "new_labels = km.labels_\n",
    "print (new_labels)"
   ]
  },
  {
   "cell_type": "code",
   "execution_count": 56,
   "metadata": {},
   "outputs": [
    {
     "data": {
      "text/plain": [
       "Text(0.5, 1.0, 'Predicted')"
      ]
     },
     "execution_count": 56,
     "metadata": {},
     "output_type": "execute_result"
    },
    {
     "data": {
      "image/png": "[encoded data removed]",
      "text/plain": [
       "<Figure size 1152x576 with 2 Axes>"
      ]
     },
     "metadata": {},
     "output_type": "display_data"
    }
   ],
   "source": [
    "fig, axes = plt.subplots(1, 2, figsize=(16,8))\n",
    "axes[0].scatter(reduced_data[:, 0], reduced_data[:, 1], c='b', cmap='gist_rainbow',edgecolor='k', s=150)\n",
    "axes[1].scatter(reduced_data[:, 0], reduced_data[:, 1], c=new_labels, cmap='jet',edgecolor='k', s=150)\n",
    "axes[0].set_xlabel('PIC Pilot Certificate', fontsize=18)\n",
    "axes[0].set_ylabel('Flight Time Hrs', fontsize=18)\n",
    "axes[1].set_xlabel('PIC Pilot Certificate', fontsize=18)\n",
    "axes[1].set_ylabel('Flight Time Hrs', fontsize=18)\n",
    "axes[0].tick_params(direction='in', length=10, width=5, colors='k', labelsize=20)\n",
    "axes[1].tick_params(direction='in', length=10, width=5, colors='k', labelsize=20)\n",
    "axes[0].set_title('Actual', fontsize=18)\n",
    "axes[1].set_title('Predicted', fontsize=18)"
   ]
  },
  {
   "cell_type": "code",
   "execution_count": 57,
   "metadata": {},
   "outputs": [],
   "source": [
    "from kmeans_numpy_improved import *"
   ]
  },
  {
   "cell_type": "code",
   "execution_count": 58,
   "metadata": {},
   "outputs": [],
   "source": [
    "km_numpy = KMeans_numpy(n_clusters=4, tolerance=0.0001)"
   ]
  },
  {
   "cell_type": "code",
   "execution_count": 59,
   "metadata": {},
   "outputs": [],
   "source": [
    "clusters, clusterd_data = km_numpy.fit(reduced_data)\n",
    "clusters = np.array(clusters)"
   ]
  },
  {
   "cell_type": "code",
   "execution_count": 60,
   "metadata": {},
   "outputs": [],
   "source": [
    "cluster_one_data = np.array(clusterd_data[0])\n",
    "cluster_two_data = np.array(clusterd_data[1])\n",
    "cluster_three_data = np.array(clusterd_data[2])\n",
    "cluster_four_data = np.array(clusterd_data[3])"
   ]
  },
  {
   "cell_type": "code",
   "execution_count": 61,
   "metadata": {
    "scrolled": true
   },
   "outputs": [
    {
     "data": {
      "image/png": "[encoded data removed]",
      "text/plain": [
       "<Figure size 864x432 with 1 Axes>"
      ]
     },
     "metadata": {},
     "output_type": "display_data"
    }
   ],
   "source": [
    "plt.figure(figsize=(12, 6))\n",
    "plt.scatter(cluster_one_data[:, 0], cluster_one_data[:, 1], c='r', label='Cluster One')\n",
    "plt.scatter(cluster_two_data[:, 0], cluster_two_data[:, 1], c='b', label='Cluster two')\n",
    "plt.scatter(cluster_three_data[:, 0], cluster_three_data[:, 1], c='g', label='Cluster three')\n",
    "plt.scatter(cluster_four_data[:, 0], cluster_four_data[:, 1], c='y', label='Cluster four')\n",
    "plt.scatter(clusters[:, 0], clusters[:, 1], marker='*', s=200, color='black', label='Centroids')\n",
    "plt.title(\"Clustering FAA Incident Data\")\n",
    "plt.xlabel('PIC Pilot Certificate')\n",
    "plt.ylabel('Flight Time Hrs')\n",
    "plt.legend()\n",
    "plt.show()"
   ]
  },
  {
   "cell_type": "markdown",
   "metadata": {},
   "source": [
    "## Analyse clusters"
   ]
  },
  {
   "cell_type": "code",
   "execution_count": 62,
   "metadata": {},
   "outputs": [],
   "source": [
    "full_data_kmeans = KMeans_numpy(n_clusters=4)\n",
    "centroids, clus_data = full_data_kmeans.fit(df_faa_clustering.values)"
   ]
  },
  {
   "cell_type": "code",
   "execution_count": 63,
   "metadata": {},
   "outputs": [],
   "source": [
    "cluster_1 = pd.DataFrame(clus_data[0], columns=['PIC Certificate Type', 'PIC Flight Time Total Hrs'])\n",
    "cluster_2 = pd.DataFrame(clus_data[1], columns=['PIC Certificate Type', 'PIC Flight Time Total Hrs'])\n",
    "cluster_3 = pd.DataFrame(clus_data[2], columns=['PIC Certificate Type', 'PIC Flight Time Total Hrs'])\n",
    "cluster_4 = pd.DataFrame(clus_data[3], columns=['PIC Certificate Type', 'PIC Flight Time Total Hrs'])"
   ]
  },
  {
   "cell_type": "markdown",
   "metadata": {},
   "source": [
    "<br>"
   ]
  },
  {
   "cell_type": "markdown",
   "metadata": {},
   "source": [
    "### Analysis the relation between Pilot flight certification and Pilot Flight time Hrs against the number of aircraft incident"
   ]
  },
  {
   "cell_type": "markdown",
   "metadata": {},
   "source": [
    "<p style=\"text-align: justify; line-height: 2.0\">Based on FAA provisions, there are flight times standard that the pilots need to fulfill to get the flight certification.\n",
    "<br>\n",
    "1. To get the \"Private Pilot\" certificate, a pilot takes at least 40 Hrs Flight times. \n",
    "<br>\n",
    "2. Then to get \"Commercial Pilot\" certificate, a pilot takes at least 250 Hrs Flight times. \n",
    "<br>\n",
    "3. For \"Airline Transport\" flight certification, a pilot takes at least 1500 Hrs Flight times. \n",
    "<br>\n",
    "4. Then for \"Recreational Pilot\" flight certification, a pilot takes at least 30 Hrs Flight times.\n",
    "<br>\n",
    "We will analyze each cluster which have many pilots who not meet the flight time standard for each of the flight certification. we assumed that the more pilot who not meet the flight time requirement, the more aircraft incidents happened\n",
    "<br>\n",
    "In this data, we have :\n",
    "<br>\n",
    "0. AIRLINE TRANSPORT [0] : 281\n",
    "<br>\n",
    "1. COMMERCIAL PILOT [1] : 813\n",
    "<br>\n",
    "2. PILOT NOT CERTIFICATED [2] : 6\n",
    "    <br>\n",
    "3. PRIVATE PILOT [3] : 2273\n",
    "    <br>\n",
    "4. RECREATIONAL PILOT [4] : 4\n",
    "    <br>\n",
    "5. SPECIAL PURPOSE [5] : 0\n",
    "    <br>\n",
    "6. STUDENT [6] : 359\n",
    "</p>"
   ]
  },
  {
   "cell_type": "markdown",
   "metadata": {},
   "source": [
    "### Cluster 1 Analysis"
   ]
  },
  {
   "cell_type": "code",
   "execution_count": 64,
   "metadata": {},
   "outputs": [
    {
     "data": {
      "text/html": [
       "<div>\n",
       "<style scoped>\n",
       "    .dataframe tbody tr th:only-of-type {\n",
       "        vertical-align: middle;\n",
       "    }\n",
       "\n",
       "    .dataframe tbody tr th {\n",
       "        vertical-align: top;\n",
       "    }\n",
       "\n",
       "    .dataframe thead th {\n",
       "        text-align: right;\n",
       "    }\n",
       "</style>\n",
       "<table border=\"1\" class=\"dataframe\">\n",
       "  <thead>\n",
       "    <tr style=\"text-align: right;\">\n",
       "      <th></th>\n",
       "      <th>PIC Certificate Type</th>\n",
       "      <th>PIC Flight Time Total Hrs</th>\n",
       "    </tr>\n",
       "  </thead>\n",
       "  <tbody>\n",
       "    <tr>\n",
       "      <th>0</th>\n",
       "      <td>1.0</td>\n",
       "      <td>5000.0</td>\n",
       "    </tr>\n",
       "    <tr>\n",
       "      <th>1</th>\n",
       "      <td>0.0</td>\n",
       "      <td>4800.0</td>\n",
       "    </tr>\n",
       "    <tr>\n",
       "      <th>2</th>\n",
       "      <td>1.0</td>\n",
       "      <td>5500.0</td>\n",
       "    </tr>\n",
       "    <tr>\n",
       "      <th>3</th>\n",
       "      <td>0.0</td>\n",
       "      <td>6586.0</td>\n",
       "    </tr>\n",
       "    <tr>\n",
       "      <th>4</th>\n",
       "      <td>0.0</td>\n",
       "      <td>7000.0</td>\n",
       "    </tr>\n",
       "    <tr>\n",
       "      <th>...</th>\n",
       "      <td>...</td>\n",
       "      <td>...</td>\n",
       "    </tr>\n",
       "    <tr>\n",
       "      <th>334</th>\n",
       "      <td>0.0</td>\n",
       "      <td>6229.0</td>\n",
       "    </tr>\n",
       "    <tr>\n",
       "      <th>335</th>\n",
       "      <td>1.0</td>\n",
       "      <td>7000.0</td>\n",
       "    </tr>\n",
       "    <tr>\n",
       "      <th>336</th>\n",
       "      <td>0.0</td>\n",
       "      <td>6200.0</td>\n",
       "    </tr>\n",
       "    <tr>\n",
       "      <th>337</th>\n",
       "      <td>1.0</td>\n",
       "      <td>5535.0</td>\n",
       "    </tr>\n",
       "    <tr>\n",
       "      <th>338</th>\n",
       "      <td>1.0</td>\n",
       "      <td>5900.0</td>\n",
       "    </tr>\n",
       "  </tbody>\n",
       "</table>\n",
       "<p>339 rows × 2 columns</p>\n",
       "</div>"
      ],
      "text/plain": [
       "     PIC Certificate Type  PIC Flight Time Total Hrs\n",
       "0                     1.0                     5000.0\n",
       "1                     0.0                     4800.0\n",
       "2                     1.0                     5500.0\n",
       "3                     0.0                     6586.0\n",
       "4                     0.0                     7000.0\n",
       "..                    ...                        ...\n",
       "334                   0.0                     6229.0\n",
       "335                   1.0                     7000.0\n",
       "336                   0.0                     6200.0\n",
       "337                   1.0                     5535.0\n",
       "338                   1.0                     5900.0\n",
       "\n",
       "[339 rows x 2 columns]"
      ]
     },
     "execution_count": 64,
     "metadata": {},
     "output_type": "execute_result"
    }
   ],
   "source": [
    "cluster_1"
   ]
  },
  {
   "cell_type": "code",
   "execution_count": 91,
   "metadata": {},
   "outputs": [
    {
     "name": "stdout",
     "output_type": "stream",
     "text": [
      "Average PIC Flight Time Total Hrs for pilot in cluster one: 5722.221238938053\n",
      "In cluster one we have: 0.0    136\n",
      "1.0    120\n",
      "3.0     83\n",
      "Name: PIC Certificate Type, dtype: int64 type of certificate\n"
     ]
    }
   ],
   "source": [
    "# we will check what kind of pilot flight certification contribute in aircraft accident on cluster 1\n",
    "print(\"Average PIC Flight Time Total Hrs for pilot in cluster one: {}\".format(np.array(cluster_1['PIC Flight Time Total Hrs']).mean()))\n",
    "print(\"In cluster one we have: {} type of certificate\".format(cluster_1['PIC Certificate Type'].value_counts()))"
   ]
  },
  {
   "cell_type": "markdown",
   "metadata": {},
   "source": [
    "<p style=\"line-height: 2.0\">So we have :\n",
    "<br>\n",
    "1. 136 incident cases with AIRLINE TRANSPORT certified pilot\n",
    "<br>\n",
    "2. 120 incident cases with COMMERCIAL PILOT certified pilot\n",
    "<br>\n",
    "3. 83 incident cases with PRIVATE PILOT certified pilot\n",
    "<br>\n",
    "After that, we will check how many pilot who not meet the FAA standard flight times</p>"
   ]
  },
  {
   "cell_type": "code",
   "execution_count": 88,
   "metadata": {},
   "outputs": [
    {
     "data": {
      "text/html": [
       "<div>\n",
       "<style scoped>\n",
       "    .dataframe tbody tr th:only-of-type {\n",
       "        vertical-align: middle;\n",
       "    }\n",
       "\n",
       "    .dataframe tbody tr th {\n",
       "        vertical-align: top;\n",
       "    }\n",
       "\n",
       "    .dataframe thead th {\n",
       "        text-align: right;\n",
       "    }\n",
       "</style>\n",
       "<table border=\"1\" class=\"dataframe\">\n",
       "  <thead>\n",
       "    <tr style=\"text-align: right;\">\n",
       "      <th></th>\n",
       "      <th>PIC Certificate Type</th>\n",
       "      <th>PIC Flight Time Total Hrs</th>\n",
       "    </tr>\n",
       "  </thead>\n",
       "  <tbody>\n",
       "  </tbody>\n",
       "</table>\n",
       "</div>"
      ],
      "text/plain": [
       "Empty DataFrame\n",
       "Columns: [PIC Certificate Type, PIC Flight Time Total Hrs]\n",
       "Index: []"
      ]
     },
     "execution_count": 88,
     "metadata": {},
     "output_type": "execute_result"
    }
   ],
   "source": [
    "# Check how many pilot who not meet the standard flight times for Airline Transport certification\n",
    "airlineTransport = cluster_1[(cluster_1['PIC Certificate Type']) == 0.0]\n",
    "a_t_minus = airlineTransport[(airlineTransport['PIC Flight Time Total Hrs']) < 1500]\n",
    "a_t_minus"
   ]
  },
  {
   "cell_type": "code",
   "execution_count": 89,
   "metadata": {},
   "outputs": [
    {
     "data": {
      "text/html": [
       "<div>\n",
       "<style scoped>\n",
       "    .dataframe tbody tr th:only-of-type {\n",
       "        vertical-align: middle;\n",
       "    }\n",
       "\n",
       "    .dataframe tbody tr th {\n",
       "        vertical-align: top;\n",
       "    }\n",
       "\n",
       "    .dataframe thead th {\n",
       "        text-align: right;\n",
       "    }\n",
       "</style>\n",
       "<table border=\"1\" class=\"dataframe\">\n",
       "  <thead>\n",
       "    <tr style=\"text-align: right;\">\n",
       "      <th></th>\n",
       "      <th>PIC Certificate Type</th>\n",
       "      <th>PIC Flight Time Total Hrs</th>\n",
       "    </tr>\n",
       "  </thead>\n",
       "  <tbody>\n",
       "  </tbody>\n",
       "</table>\n",
       "</div>"
      ],
      "text/plain": [
       "Empty DataFrame\n",
       "Columns: [PIC Certificate Type, PIC Flight Time Total Hrs]\n",
       "Index: []"
      ]
     },
     "execution_count": 89,
     "metadata": {},
     "output_type": "execute_result"
    }
   ],
   "source": [
    "# Check how many pilot who not meet the standard flight times for Commercial Pilot certification\n",
    "commercialPilot = cluster_1[(cluster_1['PIC Certificate Type']) == 1.0]\n",
    "commercialPilot.shape\n",
    "c_p_minus = commercialPilot[(commercialPilot['PIC Flight Time Total Hrs']) < 250]\n",
    "c_p_minus"
   ]
  },
  {
   "cell_type": "code",
   "execution_count": 90,
   "metadata": {},
   "outputs": [
    {
     "data": {
      "text/html": [
       "<div>\n",
       "<style scoped>\n",
       "    .dataframe tbody tr th:only-of-type {\n",
       "        vertical-align: middle;\n",
       "    }\n",
       "\n",
       "    .dataframe tbody tr th {\n",
       "        vertical-align: top;\n",
       "    }\n",
       "\n",
       "    .dataframe thead th {\n",
       "        text-align: right;\n",
       "    }\n",
       "</style>\n",
       "<table border=\"1\" class=\"dataframe\">\n",
       "  <thead>\n",
       "    <tr style=\"text-align: right;\">\n",
       "      <th></th>\n",
       "      <th>PIC Certificate Type</th>\n",
       "      <th>PIC Flight Time Total Hrs</th>\n",
       "    </tr>\n",
       "  </thead>\n",
       "  <tbody>\n",
       "  </tbody>\n",
       "</table>\n",
       "</div>"
      ],
      "text/plain": [
       "Empty DataFrame\n",
       "Columns: [PIC Certificate Type, PIC Flight Time Total Hrs]\n",
       "Index: []"
      ]
     },
     "execution_count": 90,
     "metadata": {},
     "output_type": "execute_result"
    }
   ],
   "source": [
    "# Check how many pilot who not meet the standard flight times for Commercial Pilot certification\n",
    "privatePilot = cluster_1[(cluster_1['PIC Certificate Type']) == 3.0]\n",
    "privatePilot.shape\n",
    "p_p_minus = privatePilot[(privatePilot['PIC Flight Time Total Hrs']) < 40]\n",
    "p_p_minus"
   ]
  },
  {
   "cell_type": "markdown",
   "metadata": {},
   "source": [
    "<p style=\"line-height: 2.0; text-align: justify;\">we can see that in cluster 1, there is no pilot who not meet the FAA standard flight time requirement. And there are 339 aircraft incident cases in cluster 1 with average pilot flight times  : 5722.221238938053 Hours</p>"
   ]
  },
  {
   "cell_type": "markdown",
   "metadata": {},
   "source": [
    "<br>"
   ]
  },
  {
   "cell_type": "markdown",
   "metadata": {},
   "source": [
    "### Cluster 2 Analysis"
   ]
  },
  {
   "cell_type": "code",
   "execution_count": 69,
   "metadata": {},
   "outputs": [
    {
     "data": {
      "text/html": [
       "<div>\n",
       "<style scoped>\n",
       "    .dataframe tbody tr th:only-of-type {\n",
       "        vertical-align: middle;\n",
       "    }\n",
       "\n",
       "    .dataframe tbody tr th {\n",
       "        vertical-align: top;\n",
       "    }\n",
       "\n",
       "    .dataframe thead th {\n",
       "        text-align: right;\n",
       "    }\n",
       "</style>\n",
       "<table border=\"1\" class=\"dataframe\">\n",
       "  <thead>\n",
       "    <tr style=\"text-align: right;\">\n",
       "      <th></th>\n",
       "      <th>PIC Certificate Type</th>\n",
       "      <th>PIC Flight Time Total Hrs</th>\n",
       "    </tr>\n",
       "  </thead>\n",
       "  <tbody>\n",
       "    <tr>\n",
       "      <th>0</th>\n",
       "      <td>1.0</td>\n",
       "      <td>2790.0</td>\n",
       "    </tr>\n",
       "    <tr>\n",
       "      <th>1</th>\n",
       "      <td>0.0</td>\n",
       "      <td>3000.0</td>\n",
       "    </tr>\n",
       "    <tr>\n",
       "      <th>2</th>\n",
       "      <td>1.0</td>\n",
       "      <td>2522.0</td>\n",
       "    </tr>\n",
       "    <tr>\n",
       "      <th>3</th>\n",
       "      <td>1.0</td>\n",
       "      <td>3600.0</td>\n",
       "    </tr>\n",
       "    <tr>\n",
       "      <th>4</th>\n",
       "      <td>1.0</td>\n",
       "      <td>4000.0</td>\n",
       "    </tr>\n",
       "    <tr>\n",
       "      <th>...</th>\n",
       "      <td>...</td>\n",
       "      <td>...</td>\n",
       "    </tr>\n",
       "    <tr>\n",
       "      <th>542</th>\n",
       "      <td>1.0</td>\n",
       "      <td>2500.0</td>\n",
       "    </tr>\n",
       "    <tr>\n",
       "      <th>543</th>\n",
       "      <td>3.0</td>\n",
       "      <td>2600.0</td>\n",
       "    </tr>\n",
       "    <tr>\n",
       "      <th>544</th>\n",
       "      <td>1.0</td>\n",
       "      <td>2800.0</td>\n",
       "    </tr>\n",
       "    <tr>\n",
       "      <th>545</th>\n",
       "      <td>0.0</td>\n",
       "      <td>4172.0</td>\n",
       "    </tr>\n",
       "    <tr>\n",
       "      <th>546</th>\n",
       "      <td>3.0</td>\n",
       "      <td>2398.0</td>\n",
       "    </tr>\n",
       "  </tbody>\n",
       "</table>\n",
       "<p>547 rows × 2 columns</p>\n",
       "</div>"
      ],
      "text/plain": [
       "     PIC Certificate Type  PIC Flight Time Total Hrs\n",
       "0                     1.0                     2790.0\n",
       "1                     0.0                     3000.0\n",
       "2                     1.0                     2522.0\n",
       "3                     1.0                     3600.0\n",
       "4                     1.0                     4000.0\n",
       "..                    ...                        ...\n",
       "542                   1.0                     2500.0\n",
       "543                   3.0                     2600.0\n",
       "544                   1.0                     2800.0\n",
       "545                   0.0                     4172.0\n",
       "546                   3.0                     2398.0\n",
       "\n",
       "[547 rows x 2 columns]"
      ]
     },
     "execution_count": 69,
     "metadata": {},
     "output_type": "execute_result"
    }
   ],
   "source": [
    "cluster_2"
   ]
  },
  {
   "cell_type": "code",
   "execution_count": 70,
   "metadata": {},
   "outputs": [
    {
     "name": "stdout",
     "output_type": "stream",
     "text": [
      "Average PIC Flight Time Total Hrs for pilot in cluster two: 3242.151736745887\n",
      "In cluster two we have: 1.0    241\n",
      "3.0    214\n",
      "0.0     90\n",
      "4.0      1\n",
      "6.0      1\n",
      "Name: PIC Certificate Type, dtype: int64 type of certificate\n"
     ]
    }
   ],
   "source": [
    "print(\"Average PIC Flight Time Total Hrs for pilot in cluster two: {}\".format(np.array(cluster_2['PIC Flight Time Total Hrs']).mean()))\n",
    "print(\"In cluster two we have: {} type of certificate\".format(cluster_2['PIC Certificate Type'].value_counts()))"
   ]
  },
  {
   "cell_type": "markdown",
   "metadata": {},
   "source": [
    "<p style=\"line-height: 2.0\">So we have :\n",
    "<br>\n",
    "1. 90 incident cases with AIRLINE TRANSPORT certified pilot\n",
    "<br>\n",
    "2. 241 incident cases with COMMERCIAL PILOT certified pilot\n",
    "<br>\n",
    "3. 214 incident cases with PRIVATE PILOT certified pilot\n",
    "<br>\n",
    "4. 1 incident case with STUDENT certified pilot\n",
    "<br>\n",
    "5. 1 incident case with RECREATIONAL PILOT certified pilot\n",
    "<br>\n",
    "After that, we will check how many pilot who not meet the FAA standard flight times</p>"
   ]
  },
  {
   "cell_type": "code",
   "execution_count": 92,
   "metadata": {},
   "outputs": [
    {
     "data": {
      "text/html": [
       "<div>\n",
       "<style scoped>\n",
       "    .dataframe tbody tr th:only-of-type {\n",
       "        vertical-align: middle;\n",
       "    }\n",
       "\n",
       "    .dataframe tbody tr th {\n",
       "        vertical-align: top;\n",
       "    }\n",
       "\n",
       "    .dataframe thead th {\n",
       "        text-align: right;\n",
       "    }\n",
       "</style>\n",
       "<table border=\"1\" class=\"dataframe\">\n",
       "  <thead>\n",
       "    <tr style=\"text-align: right;\">\n",
       "      <th></th>\n",
       "      <th>PIC Certificate Type</th>\n",
       "      <th>PIC Flight Time Total Hrs</th>\n",
       "    </tr>\n",
       "  </thead>\n",
       "  <tbody>\n",
       "  </tbody>\n",
       "</table>\n",
       "</div>"
      ],
      "text/plain": [
       "Empty DataFrame\n",
       "Columns: [PIC Certificate Type, PIC Flight Time Total Hrs]\n",
       "Index: []"
      ]
     },
     "execution_count": 92,
     "metadata": {},
     "output_type": "execute_result"
    }
   ],
   "source": [
    "# Check how many pilot who not meet the standard flight times for Airline Transport certification\n",
    "airlineTransport = cluster_2[(cluster_2['PIC Certificate Type']) == 0.0]\n",
    "a_t_minus = airlineTransport[(airlineTransport['PIC Flight Time Total Hrs']) < 1500]\n",
    "a_t_minus"
   ]
  },
  {
   "cell_type": "code",
   "execution_count": 93,
   "metadata": {},
   "outputs": [
    {
     "data": {
      "text/html": [
       "<div>\n",
       "<style scoped>\n",
       "    .dataframe tbody tr th:only-of-type {\n",
       "        vertical-align: middle;\n",
       "    }\n",
       "\n",
       "    .dataframe tbody tr th {\n",
       "        vertical-align: top;\n",
       "    }\n",
       "\n",
       "    .dataframe thead th {\n",
       "        text-align: right;\n",
       "    }\n",
       "</style>\n",
       "<table border=\"1\" class=\"dataframe\">\n",
       "  <thead>\n",
       "    <tr style=\"text-align: right;\">\n",
       "      <th></th>\n",
       "      <th>PIC Certificate Type</th>\n",
       "      <th>PIC Flight Time Total Hrs</th>\n",
       "    </tr>\n",
       "  </thead>\n",
       "  <tbody>\n",
       "  </tbody>\n",
       "</table>\n",
       "</div>"
      ],
      "text/plain": [
       "Empty DataFrame\n",
       "Columns: [PIC Certificate Type, PIC Flight Time Total Hrs]\n",
       "Index: []"
      ]
     },
     "execution_count": 93,
     "metadata": {},
     "output_type": "execute_result"
    }
   ],
   "source": [
    "# Check how many pilot who not meet the standard flight times for Commercial Pilot certification\n",
    "commercialPilot = cluster_2[(cluster_2['PIC Certificate Type']) == 1.0]\n",
    "c_p_minus = commercialPilot[(commercialPilot['PIC Flight Time Total Hrs']) < 250]\n",
    "c_p_minus"
   ]
  },
  {
   "cell_type": "code",
   "execution_count": 94,
   "metadata": {},
   "outputs": [
    {
     "data": {
      "text/html": [
       "<div>\n",
       "<style scoped>\n",
       "    .dataframe tbody tr th:only-of-type {\n",
       "        vertical-align: middle;\n",
       "    }\n",
       "\n",
       "    .dataframe tbody tr th {\n",
       "        vertical-align: top;\n",
       "    }\n",
       "\n",
       "    .dataframe thead th {\n",
       "        text-align: right;\n",
       "    }\n",
       "</style>\n",
       "<table border=\"1\" class=\"dataframe\">\n",
       "  <thead>\n",
       "    <tr style=\"text-align: right;\">\n",
       "      <th></th>\n",
       "      <th>PIC Certificate Type</th>\n",
       "      <th>PIC Flight Time Total Hrs</th>\n",
       "    </tr>\n",
       "  </thead>\n",
       "  <tbody>\n",
       "  </tbody>\n",
       "</table>\n",
       "</div>"
      ],
      "text/plain": [
       "Empty DataFrame\n",
       "Columns: [PIC Certificate Type, PIC Flight Time Total Hrs]\n",
       "Index: []"
      ]
     },
     "execution_count": 94,
     "metadata": {},
     "output_type": "execute_result"
    }
   ],
   "source": [
    "# Check how many pilot who not meet the standard flight times for Private Pilot certification\n",
    "privatePilot = cluster_2[(cluster_2['PIC Certificate Type']) == 3.0]\n",
    "p_p_minus = privatePilot[(privatePilot['PIC Flight Time Total Hrs']) < 40]\n",
    "p_p_minus"
   ]
  },
  {
   "cell_type": "code",
   "execution_count": 110,
   "metadata": {},
   "outputs": [
    {
     "data": {
      "text/html": [
       "<div>\n",
       "<style scoped>\n",
       "    .dataframe tbody tr th:only-of-type {\n",
       "        vertical-align: middle;\n",
       "    }\n",
       "\n",
       "    .dataframe tbody tr th {\n",
       "        vertical-align: top;\n",
       "    }\n",
       "\n",
       "    .dataframe thead th {\n",
       "        text-align: right;\n",
       "    }\n",
       "</style>\n",
       "<table border=\"1\" class=\"dataframe\">\n",
       "  <thead>\n",
       "    <tr style=\"text-align: right;\">\n",
       "      <th></th>\n",
       "      <th>PIC Certificate Type</th>\n",
       "      <th>PIC Flight Time Total Hrs</th>\n",
       "    </tr>\n",
       "  </thead>\n",
       "  <tbody>\n",
       "  </tbody>\n",
       "</table>\n",
       "</div>"
      ],
      "text/plain": [
       "Empty DataFrame\n",
       "Columns: [PIC Certificate Type, PIC Flight Time Total Hrs]\n",
       "Index: []"
      ]
     },
     "execution_count": 110,
     "metadata": {},
     "output_type": "execute_result"
    }
   ],
   "source": [
    "# Check how many pilot who not meet the standard flight times for Recreational Pilot certification\n",
    "recreationalPilot = cluster_2[(cluster_2['PIC Certificate Type']) == 4.0]\n",
    "r_p_minus = recreationalPilot[(recreationalPilot['PIC Flight Time Total Hrs']) < 30]\n",
    "r_p_minus"
   ]
  },
  {
   "cell_type": "markdown",
   "metadata": {},
   "source": [
    "<p style=\"line-height: 2.0; text-align: justify;\">Since FAA does not specify the flight times standard for Student Certification, then we dont need to analyze the flight times. Then we can see that in cluster 2, there is no pilot who not meet the FAA standard flight time requirement. And there are 547 aircraft incident cases in cluster 2 with average pilot flight times  : 3242.151736745887 Hours</p>"
   ]
  },
  {
   "cell_type": "markdown",
   "metadata": {},
   "source": [
    "<br>"
   ]
  },
  {
   "cell_type": "markdown",
   "metadata": {},
   "source": [
    "### Cluster 3 Analysis"
   ]
  },
  {
   "cell_type": "code",
   "execution_count": 74,
   "metadata": {},
   "outputs": [
    {
     "data": {
      "text/html": [
       "<div>\n",
       "<style scoped>\n",
       "    .dataframe tbody tr th:only-of-type {\n",
       "        vertical-align: middle;\n",
       "    }\n",
       "\n",
       "    .dataframe tbody tr th {\n",
       "        vertical-align: top;\n",
       "    }\n",
       "\n",
       "    .dataframe thead th {\n",
       "        text-align: right;\n",
       "    }\n",
       "</style>\n",
       "<table border=\"1\" class=\"dataframe\">\n",
       "  <thead>\n",
       "    <tr style=\"text-align: right;\">\n",
       "      <th></th>\n",
       "      <th>PIC Certificate Type</th>\n",
       "      <th>PIC Flight Time Total Hrs</th>\n",
       "    </tr>\n",
       "  </thead>\n",
       "  <tbody>\n",
       "    <tr>\n",
       "      <th>0</th>\n",
       "      <td>3.0</td>\n",
       "      <td>1294.0</td>\n",
       "    </tr>\n",
       "    <tr>\n",
       "      <th>1</th>\n",
       "      <td>1.0</td>\n",
       "      <td>1500.0</td>\n",
       "    </tr>\n",
       "    <tr>\n",
       "      <th>2</th>\n",
       "      <td>1.0</td>\n",
       "      <td>1944.0</td>\n",
       "    </tr>\n",
       "    <tr>\n",
       "      <th>3</th>\n",
       "      <td>3.0</td>\n",
       "      <td>1600.0</td>\n",
       "    </tr>\n",
       "    <tr>\n",
       "      <th>4</th>\n",
       "      <td>1.0</td>\n",
       "      <td>1870.0</td>\n",
       "    </tr>\n",
       "    <tr>\n",
       "      <th>...</th>\n",
       "      <td>...</td>\n",
       "      <td>...</td>\n",
       "    </tr>\n",
       "    <tr>\n",
       "      <th>916</th>\n",
       "      <td>3.0</td>\n",
       "      <td>1628.0</td>\n",
       "    </tr>\n",
       "    <tr>\n",
       "      <th>917</th>\n",
       "      <td>3.0</td>\n",
       "      <td>1903.0</td>\n",
       "    </tr>\n",
       "    <tr>\n",
       "      <th>918</th>\n",
       "      <td>3.0</td>\n",
       "      <td>1474.0</td>\n",
       "    </tr>\n",
       "    <tr>\n",
       "      <th>919</th>\n",
       "      <td>1.0</td>\n",
       "      <td>960.0</td>\n",
       "    </tr>\n",
       "    <tr>\n",
       "      <th>920</th>\n",
       "      <td>3.0</td>\n",
       "      <td>935.0</td>\n",
       "    </tr>\n",
       "  </tbody>\n",
       "</table>\n",
       "<p>921 rows × 2 columns</p>\n",
       "</div>"
      ],
      "text/plain": [
       "     PIC Certificate Type  PIC Flight Time Total Hrs\n",
       "0                     3.0                     1294.0\n",
       "1                     1.0                     1500.0\n",
       "2                     1.0                     1944.0\n",
       "3                     3.0                     1600.0\n",
       "4                     1.0                     1870.0\n",
       "..                    ...                        ...\n",
       "916                   3.0                     1628.0\n",
       "917                   3.0                     1903.0\n",
       "918                   3.0                     1474.0\n",
       "919                   1.0                      960.0\n",
       "920                   3.0                      935.0\n",
       "\n",
       "[921 rows x 2 columns]"
      ]
     },
     "execution_count": 74,
     "metadata": {},
     "output_type": "execute_result"
    }
   ],
   "source": [
    "cluster_3"
   ]
  },
  {
   "cell_type": "code",
   "execution_count": 96,
   "metadata": {},
   "outputs": [
    {
     "name": "stdout",
     "output_type": "stream",
     "text": [
      "Average PIC Flight Time Total Hrs for pilot in cluster three: 1514.5385450597178\n",
      "In cluster three we have: 3.0    615\n",
      "1.0    287\n",
      "0.0     19\n",
      "Name: PIC Certificate Type, dtype: int64 type of certificate\n"
     ]
    }
   ],
   "source": [
    "print(\"Average PIC Flight Time Total Hrs for pilot in cluster three: {}\".format(np.array(cluster_3['PIC Flight Time Total Hrs']).mean()))\n",
    "print(\"In cluster three we have: {} type of certificate\".format(cluster_3['PIC Certificate Type'].value_counts()))"
   ]
  },
  {
   "cell_type": "markdown",
   "metadata": {},
   "source": [
    "<p style=\"line-height: 2.0\">So we have :\n",
    "<br>\n",
    "1. 19 incident cases with AIRLINE TRANSPORT certified pilot\n",
    "<br>\n",
    "2. 287 incident cases with COMMERCIAL PILOT certified pilot\n",
    "<br>\n",
    "3. 615 incident cases with PRIVATE PILOT certified pilot\n",
    "<br>\n",
    "After that, we will check how many pilot who not meet the FAA standard flight times</p>"
   ]
  },
  {
   "cell_type": "code",
   "execution_count": 99,
   "metadata": {},
   "outputs": [
    {
     "data": {
      "text/html": [
       "<div>\n",
       "<style scoped>\n",
       "    .dataframe tbody tr th:only-of-type {\n",
       "        vertical-align: middle;\n",
       "    }\n",
       "\n",
       "    .dataframe tbody tr th {\n",
       "        vertical-align: top;\n",
       "    }\n",
       "\n",
       "    .dataframe thead th {\n",
       "        text-align: right;\n",
       "    }\n",
       "</style>\n",
       "<table border=\"1\" class=\"dataframe\">\n",
       "  <thead>\n",
       "    <tr style=\"text-align: right;\">\n",
       "      <th></th>\n",
       "      <th>PIC Certificate Type</th>\n",
       "      <th>PIC Flight Time Total Hrs</th>\n",
       "    </tr>\n",
       "  </thead>\n",
       "  <tbody>\n",
       "    <tr>\n",
       "      <th>92</th>\n",
       "      <td>0.0</td>\n",
       "      <td>1200.0</td>\n",
       "    </tr>\n",
       "  </tbody>\n",
       "</table>\n",
       "</div>"
      ],
      "text/plain": [
       "    PIC Certificate Type  PIC Flight Time Total Hrs\n",
       "92                   0.0                     1200.0"
      ]
     },
     "execution_count": 99,
     "metadata": {},
     "output_type": "execute_result"
    }
   ],
   "source": [
    "# Check how many pilot who not meet the standard flight times for Airline Transport certification\n",
    "airlineTransport = cluster_3[(cluster_3['PIC Certificate Type']) == 0.0]\n",
    "a_t_minus = airlineTransport[(airlineTransport['PIC Flight Time Total Hrs']) < 1500]\n",
    "a_t_minus"
   ]
  },
  {
   "cell_type": "code",
   "execution_count": 98,
   "metadata": {},
   "outputs": [
    {
     "data": {
      "text/html": [
       "<div>\n",
       "<style scoped>\n",
       "    .dataframe tbody tr th:only-of-type {\n",
       "        vertical-align: middle;\n",
       "    }\n",
       "\n",
       "    .dataframe tbody tr th {\n",
       "        vertical-align: top;\n",
       "    }\n",
       "\n",
       "    .dataframe thead th {\n",
       "        text-align: right;\n",
       "    }\n",
       "</style>\n",
       "<table border=\"1\" class=\"dataframe\">\n",
       "  <thead>\n",
       "    <tr style=\"text-align: right;\">\n",
       "      <th></th>\n",
       "      <th>PIC Certificate Type</th>\n",
       "      <th>PIC Flight Time Total Hrs</th>\n",
       "    </tr>\n",
       "  </thead>\n",
       "  <tbody>\n",
       "  </tbody>\n",
       "</table>\n",
       "</div>"
      ],
      "text/plain": [
       "Empty DataFrame\n",
       "Columns: [PIC Certificate Type, PIC Flight Time Total Hrs]\n",
       "Index: []"
      ]
     },
     "execution_count": 98,
     "metadata": {},
     "output_type": "execute_result"
    }
   ],
   "source": [
    "# Check how many pilot who not meet the standard flight times for Commercial Pilot certification\n",
    "commercialPilot = cluster_3[(cluster_3['PIC Certificate Type']) == 1.0]\n",
    "c_p_minus = commercialPilot[(commercialPilot['PIC Flight Time Total Hrs']) < 250]\n",
    "c_p_minus"
   ]
  },
  {
   "cell_type": "code",
   "execution_count": 100,
   "metadata": {},
   "outputs": [
    {
     "data": {
      "text/html": [
       "<div>\n",
       "<style scoped>\n",
       "    .dataframe tbody tr th:only-of-type {\n",
       "        vertical-align: middle;\n",
       "    }\n",
       "\n",
       "    .dataframe tbody tr th {\n",
       "        vertical-align: top;\n",
       "    }\n",
       "\n",
       "    .dataframe thead th {\n",
       "        text-align: right;\n",
       "    }\n",
       "</style>\n",
       "<table border=\"1\" class=\"dataframe\">\n",
       "  <thead>\n",
       "    <tr style=\"text-align: right;\">\n",
       "      <th></th>\n",
       "      <th>PIC Certificate Type</th>\n",
       "      <th>PIC Flight Time Total Hrs</th>\n",
       "    </tr>\n",
       "  </thead>\n",
       "  <tbody>\n",
       "  </tbody>\n",
       "</table>\n",
       "</div>"
      ],
      "text/plain": [
       "Empty DataFrame\n",
       "Columns: [PIC Certificate Type, PIC Flight Time Total Hrs]\n",
       "Index: []"
      ]
     },
     "execution_count": 100,
     "metadata": {},
     "output_type": "execute_result"
    }
   ],
   "source": [
    "# Check how many pilot who not meet the standard flight times for Private Pilot certification\n",
    "privatePilot = cluster_3[(cluster_3['PIC Certificate Type']) == 3.0]\n",
    "p_p_minus = privatePilot[(privatePilot['PIC Flight Time Total Hrs']) < 40]\n",
    "p_p_minus"
   ]
  },
  {
   "cell_type": "markdown",
   "metadata": {},
   "source": [
    "<p style=\"line-height: 2.0; text-align: justify;\">We can see that in cluster 3, there is 1 pilot who not meet the FAA standard flight time requirement with AIRLINE TRANSPORT certified pilot. And there are 921 aircraft incident cases in cluster 3 with average pilot flight times  : 1514.5385450597178 Hours</p>"
   ]
  },
  {
   "cell_type": "markdown",
   "metadata": {},
   "source": [
    "<br>"
   ]
  },
  {
   "cell_type": "markdown",
   "metadata": {},
   "source": [
    "### Cluster 4 Analysis"
   ]
  },
  {
   "cell_type": "code",
   "execution_count": 101,
   "metadata": {},
   "outputs": [
    {
     "data": {
      "text/html": [
       "<div>\n",
       "<style scoped>\n",
       "    .dataframe tbody tr th:only-of-type {\n",
       "        vertical-align: middle;\n",
       "    }\n",
       "\n",
       "    .dataframe tbody tr th {\n",
       "        vertical-align: top;\n",
       "    }\n",
       "\n",
       "    .dataframe thead th {\n",
       "        text-align: right;\n",
       "    }\n",
       "</style>\n",
       "<table border=\"1\" class=\"dataframe\">\n",
       "  <thead>\n",
       "    <tr style=\"text-align: right;\">\n",
       "      <th></th>\n",
       "      <th>PIC Certificate Type</th>\n",
       "      <th>PIC Flight Time Total Hrs</th>\n",
       "    </tr>\n",
       "  </thead>\n",
       "  <tbody>\n",
       "    <tr>\n",
       "      <th>0</th>\n",
       "      <td>1.0</td>\n",
       "      <td>0.0</td>\n",
       "    </tr>\n",
       "    <tr>\n",
       "      <th>1</th>\n",
       "      <td>3.0</td>\n",
       "      <td>430.0</td>\n",
       "    </tr>\n",
       "    <tr>\n",
       "      <th>2</th>\n",
       "      <td>1.0</td>\n",
       "      <td>280.0</td>\n",
       "    </tr>\n",
       "    <tr>\n",
       "      <th>3</th>\n",
       "      <td>0.0</td>\n",
       "      <td>0.0</td>\n",
       "    </tr>\n",
       "    <tr>\n",
       "      <th>4</th>\n",
       "      <td>1.0</td>\n",
       "      <td>336.0</td>\n",
       "    </tr>\n",
       "    <tr>\n",
       "      <th>...</th>\n",
       "      <td>...</td>\n",
       "      <td>...</td>\n",
       "    </tr>\n",
       "    <tr>\n",
       "      <th>1924</th>\n",
       "      <td>3.0</td>\n",
       "      <td>258.0</td>\n",
       "    </tr>\n",
       "    <tr>\n",
       "      <th>1925</th>\n",
       "      <td>3.0</td>\n",
       "      <td>285.0</td>\n",
       "    </tr>\n",
       "    <tr>\n",
       "      <th>1926</th>\n",
       "      <td>3.0</td>\n",
       "      <td>80.0</td>\n",
       "    </tr>\n",
       "    <tr>\n",
       "      <th>1927</th>\n",
       "      <td>3.0</td>\n",
       "      <td>267.0</td>\n",
       "    </tr>\n",
       "    <tr>\n",
       "      <th>1928</th>\n",
       "      <td>6.0</td>\n",
       "      <td>18.0</td>\n",
       "    </tr>\n",
       "  </tbody>\n",
       "</table>\n",
       "<p>1929 rows × 2 columns</p>\n",
       "</div>"
      ],
      "text/plain": [
       "      PIC Certificate Type  PIC Flight Time Total Hrs\n",
       "0                      1.0                        0.0\n",
       "1                      3.0                      430.0\n",
       "2                      1.0                      280.0\n",
       "3                      0.0                        0.0\n",
       "4                      1.0                      336.0\n",
       "...                    ...                        ...\n",
       "1924                   3.0                      258.0\n",
       "1925                   3.0                      285.0\n",
       "1926                   3.0                       80.0\n",
       "1927                   3.0                      267.0\n",
       "1928                   6.0                       18.0\n",
       "\n",
       "[1929 rows x 2 columns]"
      ]
     },
     "execution_count": 101,
     "metadata": {},
     "output_type": "execute_result"
    }
   ],
   "source": [
    "cluster_4"
   ]
  },
  {
   "cell_type": "code",
   "execution_count": 102,
   "metadata": {},
   "outputs": [
    {
     "name": "stdout",
     "output_type": "stream",
     "text": [
      "Average PIC Flight Time Total Hrs for pilot in cluster four: 314.57439087610163\n",
      "In cluster four we have: 3.0    1361\n",
      "6.0     358\n",
      "1.0     165\n",
      "0.0      36\n",
      "2.0       6\n",
      "4.0       3\n",
      "Name: PIC Certificate Type, dtype: int64 type of certificate\n"
     ]
    }
   ],
   "source": [
    "print(\"Average PIC Flight Time Total Hrs for pilot in cluster four: {}\".format(np.array(cluster_4['PIC Flight Time Total Hrs']).mean()))\n",
    "print(\"In cluster four we have: {} type of certificate\".format(cluster_4['PIC Certificate Type'].value_counts()))"
   ]
  },
  {
   "cell_type": "markdown",
   "metadata": {},
   "source": [
    "<p style=\"line-height: 2.0\">So we have :\n",
    "<br>\n",
    "1. 36 incident cases with AIRLINE TRANSPORT certified pilot\n",
    "<br>\n",
    "2. 165 incident cases with COMMERCIAL PILOT certified pilot\n",
    "<br>\n",
    "3. 6 incident cases with pilot who does not have any flight certification\n",
    "<br>\n",
    "4. 1361 incident cases with PRIVATE PILOT certified pilot\n",
    "<br>\n",
    "5. 3 incident case with RECREATIONAL PILOT certified pilot\n",
    "<br>\n",
    "6. 358 incident case with STUDENT certified pilot\n",
    "<br>\n",
    "After that, we will check how many pilot who not meet the FAA standard flight times</p>"
   ]
  },
  {
   "cell_type": "code",
   "execution_count": 115,
   "metadata": {
    "scrolled": true
   },
   "outputs": [
    {
     "data": {
      "text/plain": [
       "(36, 2)"
      ]
     },
     "execution_count": 115,
     "metadata": {},
     "output_type": "execute_result"
    }
   ],
   "source": [
    "# Check how many pilot who not meet the standard flight times for Airline Transport certification\n",
    "airlineTransport = cluster_4[(cluster_4['PIC Certificate Type']) == 0.0]\n",
    "a_t_minus = airlineTransport[(airlineTransport['PIC Flight Time Total Hrs']) < 1500]\n",
    "a_t_minus.shape"
   ]
  },
  {
   "cell_type": "code",
   "execution_count": 114,
   "metadata": {
    "scrolled": true
   },
   "outputs": [
    {
     "data": {
      "text/plain": [
       "(29, 2)"
      ]
     },
     "execution_count": 114,
     "metadata": {},
     "output_type": "execute_result"
    }
   ],
   "source": [
    "# Check how many pilot who not meet the standard flight times for Commercial Pilot certification\n",
    "commercialPilot = cluster_4[(cluster_4['PIC Certificate Type']) == 1.0]\n",
    "c_p_minus = commercialPilot[(commercialPilot['PIC Flight Time Total Hrs']) < 250]\n",
    "c_p_minus.shape"
   ]
  },
  {
   "cell_type": "code",
   "execution_count": 113,
   "metadata": {
    "scrolled": true
   },
   "outputs": [
    {
     "data": {
      "text/plain": [
       "(49, 2)"
      ]
     },
     "execution_count": 113,
     "metadata": {},
     "output_type": "execute_result"
    }
   ],
   "source": [
    "# Check how many pilot who not meet the standard flight times for Private Pilot certification\n",
    "privatePilot = cluster_4[(cluster_4['PIC Certificate Type']) == 3.0]\n",
    "p_p_minus = privatePilot[(privatePilot['PIC Flight Time Total Hrs']) < 40]\n",
    "p_p_minus.shape"
   ]
  },
  {
   "cell_type": "code",
   "execution_count": 112,
   "metadata": {},
   "outputs": [
    {
     "data": {
      "text/html": [
       "<div>\n",
       "<style scoped>\n",
       "    .dataframe tbody tr th:only-of-type {\n",
       "        vertical-align: middle;\n",
       "    }\n",
       "\n",
       "    .dataframe tbody tr th {\n",
       "        vertical-align: top;\n",
       "    }\n",
       "\n",
       "    .dataframe thead th {\n",
       "        text-align: right;\n",
       "    }\n",
       "</style>\n",
       "<table border=\"1\" class=\"dataframe\">\n",
       "  <thead>\n",
       "    <tr style=\"text-align: right;\">\n",
       "      <th></th>\n",
       "      <th>PIC Certificate Type</th>\n",
       "      <th>PIC Flight Time Total Hrs</th>\n",
       "    </tr>\n",
       "  </thead>\n",
       "  <tbody>\n",
       "  </tbody>\n",
       "</table>\n",
       "</div>"
      ],
      "text/plain": [
       "Empty DataFrame\n",
       "Columns: [PIC Certificate Type, PIC Flight Time Total Hrs]\n",
       "Index: []"
      ]
     },
     "execution_count": 112,
     "metadata": {},
     "output_type": "execute_result"
    }
   ],
   "source": [
    "# Check how many pilot who not meet the standard flight times for Recreational Pilot certification\n",
    "recreationalPilot = cluster_4[(cluster_4['PIC Certificate Type']) == 4.0]\n",
    "r_p_minus = recreationalPilot[(recreationalPilot['PIC Flight Time Total Hrs']) < 30]\n",
    "r_p_minus"
   ]
  },
  {
   "cell_type": "markdown",
   "metadata": {},
   "source": [
    "<p style=\"line-height:2.0; text-align: justify\">As you can see, cluster with the most incident cases, and also with the fewest pilot average flight times is cluster 4. We also can count that there are total 114 pilots who not meet the FAA standard flight times for any certification, and it has 6 incident cases with PILOT NOT CERTIFICATED certified pilot, also have 358 incident cases with STUDENT certified pilot. Pilot who still student or uncertified have minimal flight experience, which result in an increasing number of aircraft accidents.</p>"
   ]
  },
  {
   "cell_type": "markdown",
   "metadata": {},
   "source": [
    "## Conclusion"
   ]
  },
  {
   "cell_type": "markdown",
   "metadata": {},
   "source": [
    "<p style=\"line-height:2.0; text-align: justify\">From the analysis below, we can conclude that there is a relation between Pilot flight certification and Pilot flight time hours against the number of aircraft incidents. Because pilot with a minimal number of flight time have lack of experience, which result in an increasing number of aircraft incidents, as we can see in cluster 4 with the fewest pilot average flight time, it have the most incident cases. Then the more pilot who not meet the FAA standard flight times for each of the flight certification, the more aircraft incidents happened.</p>"
   ]
  },
  {
   "cell_type": "code",
   "execution_count": null,
   "metadata": {},
   "outputs": [],
   "source": []
  }
 ],
 "metadata": {
  "kernelspec": {
   "display_name": "Python 3",
   "language": "python",
   "name": "python3"
  },
  "language_info": {
   "codemirror_mode": {
    "name": "ipython",
    "version": 3
   },
   "file_extension": ".py",
   "mimetype": "text/x-python",
   "name": "python",
   "nbconvert_exporter": "python",
   "pygments_lexer": "ipython3",
   "version": "3.8.5"
  }
 },
 "nbformat": 4,
 "nbformat_minor": 4
}
